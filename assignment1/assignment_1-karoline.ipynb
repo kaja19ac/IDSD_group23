{
 "cells": [
  {
   "cell_type": "markdown",
   "metadata": {
    "deletable": false,
    "editable": false,
    "nbgrader": {
     "cell_type": "markdown",
     "checksum": "a55655cba14c313eed90e50c1cdba913",
     "grade": false,
     "grade_id": "cell-d8b377aba23d9f3a",
     "locked": true,
     "schema_version": 3,
     "solution": false,
     "task": false
    }
   },
   "source": [
    "# Mandatory Assignment 1\n",
    "\n",
    "This is the second of three mandatory assignments which must be completed during the course. Note that you only need to pass 2 out of 3 assignments to be eligible for the exam.\n",
    "\n",
    "First some practical pieces of information:\n",
    "\n",
    "* When is the assignment due?: **23:59, Friday, August 5, 2022.**\n",
    "* Should i work with my group?: **Yes**. In particular, you should **only hand in 1 assignment per group and in a comment on Absalon write your group number and all group members**. \n",
    "\n",
    "The assignment consists of problems from the exercise sets that you have solved so far, problems from the exercises that have been modified a little to better suit the structure of the assignment and finally also new problems not seen in the exercises. \n",
    "\n",
    "**Note**: \n",
    "- It is important that you submit your edited version of this [notebook](https://fileinfo.com/extension/ipynb#:~:text=An%20IPYNB%20file%20is%20a,Python%20language%20and%20their%20data.) as a .ipynb file and nothing else. Do not copy your answers into another notebook that you have made. \n",
    "- Don't delete the empty non-editable (unless you specifically change the metadata) cells below each question. Those are hidden tests used by the `nbgrader` software to grade the assignment.\n",
    "- It is recommended to clone our [github repository](https://github.com/isdsucph/isds2022) and copy the entire `assignment1` folder to somewhere on your computer and complete the assignment in this folder.\n",
    "- It is good practice to always restart your notebook and run all cells before submitting or delivering your notebook to somebody else. This is to make sure that all cells run without raising any errors breaking the flow of the notebook. "
   ]
  },
  {
   "cell_type": "code",
   "execution_count": 1,
   "metadata": {},
   "outputs": [],
   "source": [
    "from pathlib import Path\n",
    "from zipfile import ZipFile"
   ]
  },
  {
   "cell_type": "markdown",
   "metadata": {
    "deletable": false,
    "editable": false,
    "nbgrader": {
     "cell_type": "markdown",
     "checksum": "459a25bfbfe70234fb99397dd7a844c4",
     "grade": false,
     "grade_id": "cell-e5576badd2b58d90",
     "locked": true,
     "schema_version": 3,
     "solution": false,
     "task": false
    }
   },
   "source": [
    "## Problems from Exercise Set 2:\n",
    "\n",
    "This time we are going to **read the weather data from a csv file** located in this assignment directory instead of requesting the website.\n",
    "The file is called `weather_data_1870-1875.csv` and consists of weather data for the period 1870-1875. The csv file contains data which has been constructed by concatenating the _non-processed_ data from 1870-1875. In a later exercise we will need metadata about the stations so the weather data comes bundled inside a zip file called `data.zip` together with the metadata files. \n",
    "\n",
    "First, we want to create a folder to extract the data inside the zip file to. We'll use the [`Path`](https://docs.python.org/3/library/pathlib.html#pathlib.Path) object from the [`pathlib`](https://docs.python.org/3/library/pathlib.html) module to create our data folder. With the `Path` object we can construct new file paths by using the `/` operator. For instance, to create a new folder called `some_dir` located inside the directory containing this notebook we can write \n",
    "\n",
    "```python\n",
    "## Code snippet showing how to use the `/` operator\n",
    "# Create Path object of new folder located inside \n",
    "# the current working directory of this notebook\n",
    "fp = Path.cwd() / \"some_dir\"  \n",
    "# Use the Path object to actually create the subfolder\n",
    "Path.mkdir(fp, exist_ok=True)  \n",
    "```\n",
    "It is good practice to construct paths relative to the project directory. With `pathlib` this becomes easy, also across operating systems. If you are interested you can read more about the `pathlib` module [here](https://realpython.com/python-pathlib/)."
   ]
  },
  {
   "cell_type": "markdown",
   "metadata": {},
   "source": [
    "> **Ex. 2.X.1 (Not seen in module 2):**\n",
    "Use the code snippet above to create a subfolder located inside this directory named `data`. Store the path as a `Path` object inside the variable `fp_data`. We will use `fp_data` in the next exercise when extracting the zipfile's content."
   ]
  },
  {
   "cell_type": "code",
   "execution_count": 2,
   "metadata": {
    "deletable": false,
    "nbgrader": {
     "cell_type": "code",
     "checksum": "15def5ae0510f32dca69b04ddc50b1ec",
     "grade": false,
     "grade_id": "2x1",
     "locked": false,
     "schema_version": 3,
     "solution": true,
     "task": false
    }
   },
   "outputs": [],
   "source": [
    "# OUR CODE HERE\n",
    "fp_data = Path.cwd() / \"data\"  \n",
    "\n",
    "Path.mkdir(fp_data, exist_ok=True)"
   ]
  },
  {
   "cell_type": "code",
   "execution_count": null,
   "metadata": {
    "deletable": false,
    "editable": false,
    "nbgrader": {
     "cell_type": "code",
     "checksum": "bae59332888da39f84684680cc31fcde",
     "grade": true,
     "grade_id": "2x1-test",
     "locked": true,
     "points": 1,
     "schema_version": 3,
     "solution": false,
     "task": false
    }
   },
   "outputs": [],
   "source": []
  },
  {
   "cell_type": "markdown",
   "metadata": {
    "deletable": false,
    "editable": false,
    "nbgrader": {
     "cell_type": "markdown",
     "checksum": "3ab3bf517ced19d3f422f2f65d15d918",
     "grade": false,
     "grade_id": "cell-4ae37c71df382dbd",
     "locked": true,
     "schema_version": 3,
     "solution": false,
     "task": false
    }
   },
   "source": [
    "> **Ex. 2.X.2 (Not seen in module 2):** Use the [`zipfile`](https://docs.python.org/3/library/zipfile.html) module to extract the content of `data.zip` to the subfolder created above. \n",
    "\n",
    "> _Hint:_ Use the [`extractall`](https://docs.python.org/3/library/zipfile.html#zipfile.ZipFile.extractall) method of the `ZipFile` object. See [here](https://thispointer.com/python-how-to-unzip-a-file-extract-single-multiple-or-all-files-from-a-zip-archive/) for a guide."
   ]
  },
  {
   "cell_type": "code",
   "execution_count": 3,
   "metadata": {
    "deletable": false,
    "nbgrader": {
     "cell_type": "code",
     "checksum": "028470c2eda880b8d38bfe16a40b71a2",
     "grade": false,
     "grade_id": "2x2",
     "locked": false,
     "schema_version": 3,
     "solution": true,
     "task": false
    },
    "scrolled": false
   },
   "outputs": [
    {
     "ename": "FileNotFoundError",
     "evalue": "[Errno 2] No such file or directory: 'data.zip'",
     "output_type": "error",
     "traceback": [
      "\u001b[0;31m---------------------------------------------------------------------------\u001b[0m",
      "\u001b[0;31mFileNotFoundError\u001b[0m                         Traceback (most recent call last)",
      "Input \u001b[0;32mIn [3]\u001b[0m, in \u001b[0;36m<cell line: 7>\u001b[0;34m()\u001b[0m\n\u001b[1;32m      4\u001b[0m file_name \u001b[38;5;241m=\u001b[39m \u001b[38;5;124m\"\u001b[39m\u001b[38;5;124mdata.zip\u001b[39m\u001b[38;5;124m\"\u001b[39m\n\u001b[1;32m      6\u001b[0m \u001b[38;5;66;03m# opening the zip file in READ mode\u001b[39;00m\n\u001b[0;32m----> 7\u001b[0m \u001b[38;5;28;01mwith\u001b[39;00m \u001b[43mZipFile\u001b[49m\u001b[43m(\u001b[49m\u001b[38;5;124;43m\"\u001b[39;49m\u001b[38;5;124;43mdata.zip\u001b[39;49m\u001b[38;5;124;43m\"\u001b[39;49m\u001b[43m,\u001b[49m\u001b[43m \u001b[49m\u001b[38;5;124;43m'\u001b[39;49m\u001b[38;5;124;43mr\u001b[39;49m\u001b[38;5;124;43m'\u001b[39;49m\u001b[43m)\u001b[49m \u001b[38;5;28;01mas\u001b[39;00m zipfile:\n\u001b[1;32m      8\u001b[0m     \u001b[38;5;66;03m# printing all the contents of the zip file\u001b[39;00m\n\u001b[1;32m      9\u001b[0m     zipfile\u001b[38;5;241m.\u001b[39mprintdir()\n\u001b[1;32m     11\u001b[0m \u001b[38;5;66;03m# extracting all the files\u001b[39;00m\n",
      "File \u001b[0;32m~/opt/anaconda3/lib/python3.9/zipfile.py:1248\u001b[0m, in \u001b[0;36mZipFile.__init__\u001b[0;34m(self, file, mode, compression, allowZip64, compresslevel, strict_timestamps)\u001b[0m\n\u001b[1;32m   1246\u001b[0m \u001b[38;5;28;01mwhile\u001b[39;00m \u001b[38;5;28;01mTrue\u001b[39;00m:\n\u001b[1;32m   1247\u001b[0m     \u001b[38;5;28;01mtry\u001b[39;00m:\n\u001b[0;32m-> 1248\u001b[0m         \u001b[38;5;28mself\u001b[39m\u001b[38;5;241m.\u001b[39mfp \u001b[38;5;241m=\u001b[39m \u001b[43mio\u001b[49m\u001b[38;5;241;43m.\u001b[39;49m\u001b[43mopen\u001b[49m\u001b[43m(\u001b[49m\u001b[43mfile\u001b[49m\u001b[43m,\u001b[49m\u001b[43m \u001b[49m\u001b[43mfilemode\u001b[49m\u001b[43m)\u001b[49m\n\u001b[1;32m   1249\u001b[0m     \u001b[38;5;28;01mexcept\u001b[39;00m \u001b[38;5;167;01mOSError\u001b[39;00m:\n\u001b[1;32m   1250\u001b[0m         \u001b[38;5;28;01mif\u001b[39;00m filemode \u001b[38;5;129;01min\u001b[39;00m modeDict:\n",
      "\u001b[0;31mFileNotFoundError\u001b[0m: [Errno 2] No such file or directory: 'data.zip'"
     ]
    }
   ],
   "source": [
    "# OUR CODE HERE\n",
    " \n",
    "# specifying the zip file name\n",
    "file_name = \"data.zip\"\n",
    "  \n",
    "# opening the zip file in READ mode\n",
    "with ZipFile(\"data.zip\", 'r') as zipfile:\n",
    "    # printing all the contents of the zip file\n",
    "    zipfile.printdir()\n",
    "    \n",
    "# extracting all the files\n",
    "    zipfile.extractall('data')\n",
    "    print('Done :D')"
   ]
  },
  {
   "cell_type": "code",
   "execution_count": null,
   "metadata": {
    "deletable": false,
    "editable": false,
    "nbgrader": {
     "cell_type": "code",
     "checksum": "c746efc3c12830df77e2f92b375f4d61",
     "grade": true,
     "grade_id": "2x2-test",
     "locked": true,
     "points": 1,
     "schema_version": 3,
     "solution": false,
     "task": false
    }
   },
   "outputs": [],
   "source": []
  },
  {
   "cell_type": "markdown",
   "metadata": {
    "deletable": false,
    "editable": false,
    "nbgrader": {
     "cell_type": "markdown",
     "checksum": "9d5325888798d10692c986771969c91c",
     "grade": false,
     "grade_id": "cell-3949fc8a0311b795",
     "locked": true,
     "schema_version": 3,
     "solution": false,
     "task": false
    }
   },
   "source": [
    "> **Ex. 2.3.4:** The code below runs through some of the steps we completed in exercise 2.3.4 in Module 2. As we are not going to request the website but load the data from a csv file, your task is to **rewrite parts of the function**. In particular, you need to do the following:`\n",
    ">1. Rename the function to `process_weather` instead of `load_weather`. \n",
    ">2. The function should now  take a `DataFrame` as input (the one we extracted from the zip file)\n",
    ">3. Consider whether `df_weather.iloc[:, :4]` is necessary for the weather data loaded from  the csv file. The documentation string should also be rewritten appropriately. \n",
    ">4. The function contains a sorting step. **Change it so that it first sorts by _station_, then by _datetime_. The sorting should be ascending for _station_ and descending for _datetime_.** \n",
    ">5. After having rewritten the function, load the weather data from `'weather_data_1870-1875.csv'` into a pandas dataframe, apply the `process_weather` function to this dataframe, and store the result in the variable `df_weather_period`.\n",
    "\n",
    "```python\n",
    "def load_weather(year):\n",
    "    \"\"\"Function to structure and clean weather data.\n",
    "    \n",
    "    Structuring includes removing unused columns, renaming the \n",
    "    columns and selecting only observations of maximum temperature. \n",
    "    Cleaning includes inserting missing decimal, sorting and\n",
    "    resetting the index.\n",
    "    \n",
    "    Args:\n",
    "        year (int): given year to load data from e.g. 1870\n",
    "        \n",
    "    Returns:\n",
    "        (pd.DataFrame): processed weather data for given input year\n",
    "    \"\"\"\n",
    "    url = f\"ftp://ftp.ncdc.noaa.gov/pub/data/ghcn/daily/by_year/{year}.csv.gz\"\n",
    "\n",
    "    # loads the data\n",
    "    df_weather = pd.read_csv(url, header=None)\\\n",
    "                    .iloc[:,:4] \n",
    "\n",
    "    # structure and clean data using methods chaining\n",
    "    # note that the original columns now are strings when loading the csv file\n",
    "    # and not integers as when downloading the data\n",
    "    df_out = \\\n",
    "        df_weather\\\n",
    "            .rename(columns={'0': 'station', '1': 'datetime', '2': 'obs_type', '3': 'obs_value'})\\\n",
    "            .query(\"obs_type == 'TMAX'\")\\\n",
    "            .assign(obs_value=lambda df: df['obs_value']/10)\\\n",
    "            .sort_values(by=['station', 'datetime'])\\\n",
    "            .reset_index(drop=True)\\\n",
    "            .copy() \n",
    "\n",
    "    # area process\n",
    "    df_out['area'] = df_out['station'].str[0:2]\n",
    "\n",
    "    # datetime process\n",
    "    df_out['datetime_dt'] = pd.to_datetime(df_out['datetime'], format = '%Y%m%d')\n",
    "    df_out['month'] = df_out['datetime_dt'].dt.month\n",
    "    df_out['year'] = df_out['datetime_dt'].dt.year\n",
    "\n",
    "    return df_out\n",
    "```"
   ]
  },
  {
   "cell_type": "code",
   "execution_count": 4,
   "metadata": {},
   "outputs": [],
   "source": [
    "from pathlib import Path\n",
    "\n",
    "folderpath = Path.cwd()\n",
    "filepath = folderpath / \"data\" / \"weather_data_1870-1875.csv\""
   ]
  },
  {
   "cell_type": "code",
   "execution_count": 5,
   "metadata": {
    "deletable": false,
    "nbgrader": {
     "cell_type": "code",
     "checksum": "b0fcfb2b712a697a2c519e6f2d4102b6",
     "grade": false,
     "grade_id": "problem_234",
     "locked": false,
     "schema_version": 3,
     "solution": true,
     "task": false
    }
   },
   "outputs": [],
   "source": [
    "# OUR CODE HERE\n",
    "import pandas as pd\n",
    "\n",
    "\n",
    "df_weather = pd.read_csv(Path.cwd() / \"data\" / r'weather_data_1870-1875.csv')\n",
    "\n",
    "\n",
    "def process_weather(DataFrame): \n",
    "    df_out = \\\n",
    "        DataFrame\\\n",
    "            .rename(columns={'0': 'station', '1': 'datetime', '2': 'obs_type', '3': 'obs_value'})\\\n",
    "            .query(\"obs_type == 'TMAX'\")\\\n",
    "            .assign(obs_value=lambda df: df['obs_value']/10)\\\n",
    "            .sort_values(by=['station', 'datetime'],ascending=[True, False ])\\\n",
    "            .reset_index(drop=True)\\\n",
    "            .copy() \n",
    "\n",
    "    # area process\n",
    "    df_out['area'] = df_out['station'].str[0:2]\n",
    "\n",
    "    # datetime process\n",
    "    df_out['datetime_dt'] = pd.to_datetime(df_out['datetime'], format = '%Y%m%d')\n",
    "    df_out['month'] = df_out['datetime_dt'].dt.month\n",
    "    df_out['year'] = df_out['datetime_dt'].dt.year\n",
    "\n",
    "    return df_out\n",
    "df_weather_period = process_weather(df_weather)\n"
   ]
  },
  {
   "cell_type": "code",
   "execution_count": 6,
   "metadata": {},
   "outputs": [
    {
     "data": {
      "text/html": [
       "<div>\n",
       "<style scoped>\n",
       "    .dataframe tbody tr th:only-of-type {\n",
       "        vertical-align: middle;\n",
       "    }\n",
       "\n",
       "    .dataframe tbody tr th {\n",
       "        vertical-align: top;\n",
       "    }\n",
       "\n",
       "    .dataframe thead th {\n",
       "        text-align: right;\n",
       "    }\n",
       "</style>\n",
       "<table border=\"1\" class=\"dataframe\">\n",
       "  <thead>\n",
       "    <tr style=\"text-align: right;\">\n",
       "      <th></th>\n",
       "      <th>station</th>\n",
       "      <th>datetime</th>\n",
       "      <th>obs_type</th>\n",
       "      <th>obs_value</th>\n",
       "      <th>area</th>\n",
       "      <th>datetime_dt</th>\n",
       "      <th>month</th>\n",
       "      <th>year</th>\n",
       "    </tr>\n",
       "  </thead>\n",
       "  <tbody>\n",
       "    <tr>\n",
       "      <th>0</th>\n",
       "      <td>ASN00048013</td>\n",
       "      <td>18751117</td>\n",
       "      <td>TMAX</td>\n",
       "      <td>38.3</td>\n",
       "      <td>AS</td>\n",
       "      <td>1875-11-17</td>\n",
       "      <td>11</td>\n",
       "      <td>1875</td>\n",
       "    </tr>\n",
       "    <tr>\n",
       "      <th>1</th>\n",
       "      <td>ASN00048013</td>\n",
       "      <td>18751116</td>\n",
       "      <td>TMAX</td>\n",
       "      <td>33.8</td>\n",
       "      <td>AS</td>\n",
       "      <td>1875-11-16</td>\n",
       "      <td>11</td>\n",
       "      <td>1875</td>\n",
       "    </tr>\n",
       "    <tr>\n",
       "      <th>2</th>\n",
       "      <td>ASN00048013</td>\n",
       "      <td>18751115</td>\n",
       "      <td>TMAX</td>\n",
       "      <td>32.8</td>\n",
       "      <td>AS</td>\n",
       "      <td>1875-11-15</td>\n",
       "      <td>11</td>\n",
       "      <td>1875</td>\n",
       "    </tr>\n",
       "    <tr>\n",
       "      <th>3</th>\n",
       "      <td>ASN00048013</td>\n",
       "      <td>18751114</td>\n",
       "      <td>TMAX</td>\n",
       "      <td>35.6</td>\n",
       "      <td>AS</td>\n",
       "      <td>1875-11-14</td>\n",
       "      <td>11</td>\n",
       "      <td>1875</td>\n",
       "    </tr>\n",
       "    <tr>\n",
       "      <th>4</th>\n",
       "      <td>ASN00048013</td>\n",
       "      <td>18751113</td>\n",
       "      <td>TMAX</td>\n",
       "      <td>29.7</td>\n",
       "      <td>AS</td>\n",
       "      <td>1875-11-13</td>\n",
       "      <td>11</td>\n",
       "      <td>1875</td>\n",
       "    </tr>\n",
       "    <tr>\n",
       "      <th>...</th>\n",
       "      <td>...</td>\n",
       "      <td>...</td>\n",
       "      <td>...</td>\n",
       "      <td>...</td>\n",
       "      <td>...</td>\n",
       "      <td>...</td>\n",
       "      <td>...</td>\n",
       "      <td>...</td>\n",
       "    </tr>\n",
       "    <tr>\n",
       "      <th>132312</th>\n",
       "      <td>USW00094728</td>\n",
       "      <td>18700105</td>\n",
       "      <td>TMAX</td>\n",
       "      <td>1.1</td>\n",
       "      <td>US</td>\n",
       "      <td>1870-01-05</td>\n",
       "      <td>1</td>\n",
       "      <td>1870</td>\n",
       "    </tr>\n",
       "    <tr>\n",
       "      <th>132313</th>\n",
       "      <td>USW00094728</td>\n",
       "      <td>18700104</td>\n",
       "      <td>TMAX</td>\n",
       "      <td>1.7</td>\n",
       "      <td>US</td>\n",
       "      <td>1870-01-04</td>\n",
       "      <td>1</td>\n",
       "      <td>1870</td>\n",
       "    </tr>\n",
       "    <tr>\n",
       "      <th>132314</th>\n",
       "      <td>USW00094728</td>\n",
       "      <td>18700103</td>\n",
       "      <td>TMAX</td>\n",
       "      <td>5.0</td>\n",
       "      <td>US</td>\n",
       "      <td>1870-01-03</td>\n",
       "      <td>1</td>\n",
       "      <td>1870</td>\n",
       "    </tr>\n",
       "    <tr>\n",
       "      <th>132315</th>\n",
       "      <td>USW00094728</td>\n",
       "      <td>18700102</td>\n",
       "      <td>TMAX</td>\n",
       "      <td>12.2</td>\n",
       "      <td>US</td>\n",
       "      <td>1870-01-02</td>\n",
       "      <td>1</td>\n",
       "      <td>1870</td>\n",
       "    </tr>\n",
       "    <tr>\n",
       "      <th>132316</th>\n",
       "      <td>USW00094728</td>\n",
       "      <td>18700101</td>\n",
       "      <td>TMAX</td>\n",
       "      <td>6.1</td>\n",
       "      <td>US</td>\n",
       "      <td>1870-01-01</td>\n",
       "      <td>1</td>\n",
       "      <td>1870</td>\n",
       "    </tr>\n",
       "  </tbody>\n",
       "</table>\n",
       "<p>132317 rows × 8 columns</p>\n",
       "</div>"
      ],
      "text/plain": [
       "            station  datetime obs_type  obs_value area datetime_dt  month  \\\n",
       "0       ASN00048013  18751117     TMAX       38.3   AS  1875-11-17     11   \n",
       "1       ASN00048013  18751116     TMAX       33.8   AS  1875-11-16     11   \n",
       "2       ASN00048013  18751115     TMAX       32.8   AS  1875-11-15     11   \n",
       "3       ASN00048013  18751114     TMAX       35.6   AS  1875-11-14     11   \n",
       "4       ASN00048013  18751113     TMAX       29.7   AS  1875-11-13     11   \n",
       "...             ...       ...      ...        ...  ...         ...    ...   \n",
       "132312  USW00094728  18700105     TMAX        1.1   US  1870-01-05      1   \n",
       "132313  USW00094728  18700104     TMAX        1.7   US  1870-01-04      1   \n",
       "132314  USW00094728  18700103     TMAX        5.0   US  1870-01-03      1   \n",
       "132315  USW00094728  18700102     TMAX       12.2   US  1870-01-02      1   \n",
       "132316  USW00094728  18700101     TMAX        6.1   US  1870-01-01      1   \n",
       "\n",
       "        year  \n",
       "0       1875  \n",
       "1       1875  \n",
       "2       1875  \n",
       "3       1875  \n",
       "4       1875  \n",
       "...      ...  \n",
       "132312  1870  \n",
       "132313  1870  \n",
       "132314  1870  \n",
       "132315  1870  \n",
       "132316  1870  \n",
       "\n",
       "[132317 rows x 8 columns]"
      ]
     },
     "execution_count": 6,
     "metadata": {},
     "output_type": "execute_result"
    }
   ],
   "source": [
    "df_weather_period"
   ]
  },
  {
   "cell_type": "code",
   "execution_count": null,
   "metadata": {
    "deletable": false,
    "editable": false,
    "nbgrader": {
     "cell_type": "code",
     "checksum": "a7189d84de812b64c7424088e3ca325b",
     "grade": true,
     "grade_id": "problem_234_tests",
     "locked": true,
     "points": 2,
     "schema_version": 3,
     "solution": false,
     "task": false
    }
   },
   "outputs": [],
   "source": []
  },
  {
   "cell_type": "markdown",
   "metadata": {
    "deletable": false,
    "editable": false,
    "nbgrader": {
     "cell_type": "markdown",
     "checksum": "78e78d64830c5518e7ef3173d94bf33c",
     "grade": false,
     "grade_id": "cell-7a8591d457df256a",
     "locked": true,
     "schema_version": 3,
     "solution": false,
     "task": false
    }
   },
   "source": [
    "> **Ex. 2.X.3 (Not seen in module 2):** Try to plot the observations value of `df_weather_period` by running `df_weather_period.obs_value.plot()`. Something seems off, right? Now try to inspect the problematic subset of the dataframe by running `df_weather_period[df_weather_period.obs_value < -50]`. What can these three observations be characterized as? Drop _all_ observations from the associated station from `df_weather_period`, reset the index and drop the column with the old index. Store the dataframe back into the variable `df_weather_period`."
   ]
  },
  {
   "cell_type": "code",
   "execution_count": 7,
   "metadata": {
    "deletable": false,
    "nbgrader": {
     "cell_type": "code",
     "checksum": "a2de59076e97751d5e76fa532723f768",
     "grade": false,
     "grade_id": "problem_notseenexercises",
     "locked": false,
     "schema_version": 3,
     "solution": true,
     "task": false
    }
   },
   "outputs": [
    {
     "data": {
      "text/plain": [
       "<AxesSubplot:>"
      ]
     },
     "execution_count": 7,
     "metadata": {},
     "output_type": "execute_result"
    },
    {
     "data": {
      "image/png": "[encoded data removed]",
      "text/plain": [
       "<Figure size 432x288 with 1 Axes>"
      ]
     },
     "metadata": {
      "needs_background": "light"
     },
     "output_type": "display_data"
    }
   ],
   "source": [
    "# YOUR CODE HERE\n",
    "df_weather_period.obs_value.plot()\n"
   ]
  },
  {
   "cell_type": "code",
   "execution_count": 8,
   "metadata": {
    "scrolled": true
   },
   "outputs": [
    {
     "data": {
      "text/html": [
       "<div>\n",
       "<style scoped>\n",
       "    .dataframe tbody tr th:only-of-type {\n",
       "        vertical-align: middle;\n",
       "    }\n",
       "\n",
       "    .dataframe tbody tr th {\n",
       "        vertical-align: top;\n",
       "    }\n",
       "\n",
       "    .dataframe thead th {\n",
       "        text-align: right;\n",
       "    }\n",
       "</style>\n",
       "<table border=\"1\" class=\"dataframe\">\n",
       "  <thead>\n",
       "    <tr style=\"text-align: right;\">\n",
       "      <th></th>\n",
       "      <th>station</th>\n",
       "      <th>datetime</th>\n",
       "      <th>obs_type</th>\n",
       "      <th>obs_value</th>\n",
       "      <th>area</th>\n",
       "      <th>datetime_dt</th>\n",
       "      <th>month</th>\n",
       "      <th>year</th>\n",
       "    </tr>\n",
       "  </thead>\n",
       "  <tbody>\n",
       "    <tr>\n",
       "      <th>126366</th>\n",
       "      <td>USW00023068</td>\n",
       "      <td>18751115</td>\n",
       "      <td>TMAX</td>\n",
       "      <td>-573.3</td>\n",
       "      <td>US</td>\n",
       "      <td>1875-11-15</td>\n",
       "      <td>11</td>\n",
       "      <td>1875</td>\n",
       "    </tr>\n",
       "    <tr>\n",
       "      <th>126397</th>\n",
       "      <td>USW00023068</td>\n",
       "      <td>18751015</td>\n",
       "      <td>TMAX</td>\n",
       "      <td>-573.3</td>\n",
       "      <td>US</td>\n",
       "      <td>1875-10-15</td>\n",
       "      <td>10</td>\n",
       "      <td>1875</td>\n",
       "    </tr>\n",
       "    <tr>\n",
       "      <th>126398</th>\n",
       "      <td>USW00023068</td>\n",
       "      <td>18751014</td>\n",
       "      <td>TMAX</td>\n",
       "      <td>-573.3</td>\n",
       "      <td>US</td>\n",
       "      <td>1875-10-14</td>\n",
       "      <td>10</td>\n",
       "      <td>1875</td>\n",
       "    </tr>\n",
       "  </tbody>\n",
       "</table>\n",
       "</div>"
      ],
      "text/plain": [
       "            station  datetime obs_type  obs_value area datetime_dt  month  \\\n",
       "126366  USW00023068  18751115     TMAX     -573.3   US  1875-11-15     11   \n",
       "126397  USW00023068  18751015     TMAX     -573.3   US  1875-10-15     10   \n",
       "126398  USW00023068  18751014     TMAX     -573.3   US  1875-10-14     10   \n",
       "\n",
       "        year  \n",
       "126366  1875  \n",
       "126397  1875  \n",
       "126398  1875  "
      ]
     },
     "execution_count": 8,
     "metadata": {},
     "output_type": "execute_result"
    }
   ],
   "source": [
    "df_weather_period[df_weather_period.obs_value < -50]\n",
    "\n",
    "#\"It can be defined as outliers or error observations\""
   ]
  },
  {
   "cell_type": "code",
   "execution_count": 9,
   "metadata": {},
   "outputs": [
    {
     "data": {
      "text/html": [
       "<div>\n",
       "<style scoped>\n",
       "    .dataframe tbody tr th:only-of-type {\n",
       "        vertical-align: middle;\n",
       "    }\n",
       "\n",
       "    .dataframe tbody tr th {\n",
       "        vertical-align: top;\n",
       "    }\n",
       "\n",
       "    .dataframe thead th {\n",
       "        text-align: right;\n",
       "    }\n",
       "</style>\n",
       "<table border=\"1\" class=\"dataframe\">\n",
       "  <thead>\n",
       "    <tr style=\"text-align: right;\">\n",
       "      <th></th>\n",
       "      <th>station</th>\n",
       "      <th>datetime</th>\n",
       "      <th>obs_type</th>\n",
       "      <th>obs_value</th>\n",
       "      <th>area</th>\n",
       "      <th>datetime_dt</th>\n",
       "      <th>month</th>\n",
       "      <th>year</th>\n",
       "    </tr>\n",
       "  </thead>\n",
       "  <tbody>\n",
       "    <tr>\n",
       "      <th>0</th>\n",
       "      <td>ASN00048013</td>\n",
       "      <td>18751117</td>\n",
       "      <td>TMAX</td>\n",
       "      <td>38.3</td>\n",
       "      <td>AS</td>\n",
       "      <td>1875-11-17</td>\n",
       "      <td>11</td>\n",
       "      <td>1875</td>\n",
       "    </tr>\n",
       "    <tr>\n",
       "      <th>1</th>\n",
       "      <td>ASN00048013</td>\n",
       "      <td>18751116</td>\n",
       "      <td>TMAX</td>\n",
       "      <td>33.8</td>\n",
       "      <td>AS</td>\n",
       "      <td>1875-11-16</td>\n",
       "      <td>11</td>\n",
       "      <td>1875</td>\n",
       "    </tr>\n",
       "    <tr>\n",
       "      <th>2</th>\n",
       "      <td>ASN00048013</td>\n",
       "      <td>18751115</td>\n",
       "      <td>TMAX</td>\n",
       "      <td>32.8</td>\n",
       "      <td>AS</td>\n",
       "      <td>1875-11-15</td>\n",
       "      <td>11</td>\n",
       "      <td>1875</td>\n",
       "    </tr>\n",
       "    <tr>\n",
       "      <th>3</th>\n",
       "      <td>ASN00048013</td>\n",
       "      <td>18751114</td>\n",
       "      <td>TMAX</td>\n",
       "      <td>35.6</td>\n",
       "      <td>AS</td>\n",
       "      <td>1875-11-14</td>\n",
       "      <td>11</td>\n",
       "      <td>1875</td>\n",
       "    </tr>\n",
       "    <tr>\n",
       "      <th>4</th>\n",
       "      <td>ASN00048013</td>\n",
       "      <td>18751113</td>\n",
       "      <td>TMAX</td>\n",
       "      <td>29.7</td>\n",
       "      <td>AS</td>\n",
       "      <td>1875-11-13</td>\n",
       "      <td>11</td>\n",
       "      <td>1875</td>\n",
       "    </tr>\n",
       "    <tr>\n",
       "      <th>...</th>\n",
       "      <td>...</td>\n",
       "      <td>...</td>\n",
       "      <td>...</td>\n",
       "      <td>...</td>\n",
       "      <td>...</td>\n",
       "      <td>...</td>\n",
       "      <td>...</td>\n",
       "      <td>...</td>\n",
       "    </tr>\n",
       "    <tr>\n",
       "      <th>131815</th>\n",
       "      <td>USW00094728</td>\n",
       "      <td>18700105</td>\n",
       "      <td>TMAX</td>\n",
       "      <td>1.1</td>\n",
       "      <td>US</td>\n",
       "      <td>1870-01-05</td>\n",
       "      <td>1</td>\n",
       "      <td>1870</td>\n",
       "    </tr>\n",
       "    <tr>\n",
       "      <th>131816</th>\n",
       "      <td>USW00094728</td>\n",
       "      <td>18700104</td>\n",
       "      <td>TMAX</td>\n",
       "      <td>1.7</td>\n",
       "      <td>US</td>\n",
       "      <td>1870-01-04</td>\n",
       "      <td>1</td>\n",
       "      <td>1870</td>\n",
       "    </tr>\n",
       "    <tr>\n",
       "      <th>131817</th>\n",
       "      <td>USW00094728</td>\n",
       "      <td>18700103</td>\n",
       "      <td>TMAX</td>\n",
       "      <td>5.0</td>\n",
       "      <td>US</td>\n",
       "      <td>1870-01-03</td>\n",
       "      <td>1</td>\n",
       "      <td>1870</td>\n",
       "    </tr>\n",
       "    <tr>\n",
       "      <th>131818</th>\n",
       "      <td>USW00094728</td>\n",
       "      <td>18700102</td>\n",
       "      <td>TMAX</td>\n",
       "      <td>12.2</td>\n",
       "      <td>US</td>\n",
       "      <td>1870-01-02</td>\n",
       "      <td>1</td>\n",
       "      <td>1870</td>\n",
       "    </tr>\n",
       "    <tr>\n",
       "      <th>131819</th>\n",
       "      <td>USW00094728</td>\n",
       "      <td>18700101</td>\n",
       "      <td>TMAX</td>\n",
       "      <td>6.1</td>\n",
       "      <td>US</td>\n",
       "      <td>1870-01-01</td>\n",
       "      <td>1</td>\n",
       "      <td>1870</td>\n",
       "    </tr>\n",
       "  </tbody>\n",
       "</table>\n",
       "<p>131820 rows × 8 columns</p>\n",
       "</div>"
      ],
      "text/plain": [
       "            station  datetime obs_type  obs_value area datetime_dt  month  \\\n",
       "0       ASN00048013  18751117     TMAX       38.3   AS  1875-11-17     11   \n",
       "1       ASN00048013  18751116     TMAX       33.8   AS  1875-11-16     11   \n",
       "2       ASN00048013  18751115     TMAX       32.8   AS  1875-11-15     11   \n",
       "3       ASN00048013  18751114     TMAX       35.6   AS  1875-11-14     11   \n",
       "4       ASN00048013  18751113     TMAX       29.7   AS  1875-11-13     11   \n",
       "...             ...       ...      ...        ...  ...         ...    ...   \n",
       "131815  USW00094728  18700105     TMAX        1.1   US  1870-01-05      1   \n",
       "131816  USW00094728  18700104     TMAX        1.7   US  1870-01-04      1   \n",
       "131817  USW00094728  18700103     TMAX        5.0   US  1870-01-03      1   \n",
       "131818  USW00094728  18700102     TMAX       12.2   US  1870-01-02      1   \n",
       "131819  USW00094728  18700101     TMAX        6.1   US  1870-01-01      1   \n",
       "\n",
       "        year  \n",
       "0       1875  \n",
       "1       1875  \n",
       "2       1875  \n",
       "3       1875  \n",
       "4       1875  \n",
       "...      ...  \n",
       "131815  1870  \n",
       "131816  1870  \n",
       "131817  1870  \n",
       "131818  1870  \n",
       "131819  1870  \n",
       "\n",
       "[131820 rows x 8 columns]"
      ]
     },
     "execution_count": 9,
     "metadata": {},
     "output_type": "execute_result"
    }
   ],
   "source": [
    "df_weather_period=df_weather_period[df_weather_period.station !='USW00023068'].reset_index(drop=True)\n",
    "\n",
    "df_weather_period"
   ]
  },
  {
   "cell_type": "code",
   "execution_count": null,
   "metadata": {
    "deletable": false,
    "editable": false,
    "nbgrader": {
     "cell_type": "code",
     "checksum": "5971a3b2c04c14fb5fb5f180e25ff481",
     "grade": true,
     "grade_id": "problem_notseenexercises_tests",
     "locked": true,
     "points": 1,
     "schema_version": 3,
     "solution": false,
     "task": false
    }
   },
   "outputs": [],
   "source": []
  },
  {
   "cell_type": "markdown",
   "metadata": {
    "deletable": false,
    "editable": false,
    "nbgrader": {
     "cell_type": "markdown",
     "checksum": "b1b79752e5634da4d89aa3ae634563e0",
     "grade": false,
     "grade_id": "cell-c2f8ff075ab551a8",
     "locked": true,
     "schema_version": 3,
     "solution": false,
     "task": false
    }
   },
   "source": [
    "> **Ex. 2.3.2:** \n",
    "Continuing with the `df_weather_period` from last exercise, do the following:\n",
    "> 1. Convert the `area` column to a categorical variable. \n",
    "> 2. Transform the `obs_value` column from a continuous to a categorical variable by partitioning it into `3` intervals. The first interval should contain observations with values of `obs_value` up to the 10% quantile. The second interval should contain observations with values of `obs_value` up to the 90% quantile. The third interval should contain the rest of the observations. Call this new column for `obs_value_cat`.  This can be done using the `pd.qcut()` method.\n",
    "> 3. Make another column with  `obs_value` as a categorical variable but this time label the 3 intervals as `[\"cold\", \"medium\", \"hot\"]`. This can be done by specifying the `labels` parameter in the `pd.qcut()` method of pandas. Call this new column for `obs_value_cat_labeled`."
   ]
  },
  {
   "cell_type": "code",
   "execution_count": 10,
   "metadata": {
    "deletable": false,
    "nbgrader": {
     "cell_type": "code",
     "checksum": "5a0243b6c65b39af72e8d1efead106e8",
     "grade": false,
     "grade_id": "problem_232",
     "locked": false,
     "schema_version": 3,
     "solution": true,
     "task": false
    }
   },
   "outputs": [
    {
     "name": "stdout",
     "output_type": "stream",
     "text": [
      "<class 'pandas.core.frame.DataFrame'>\n",
      "RangeIndex: 131820 entries, 0 to 131819\n",
      "Data columns (total 8 columns):\n",
      " #   Column       Non-Null Count   Dtype         \n",
      "---  ------       --------------   -----         \n",
      " 0   station      131820 non-null  object        \n",
      " 1   datetime     131820 non-null  int64         \n",
      " 2   obs_type     131820 non-null  object        \n",
      " 3   obs_value    131820 non-null  float64       \n",
      " 4   area         131820 non-null  category      \n",
      " 5   datetime_dt  131820 non-null  datetime64[ns]\n",
      " 6   month        131820 non-null  int64         \n",
      " 7   year         131820 non-null  int64         \n",
      "dtypes: category(1), datetime64[ns](1), float64(1), int64(3), object(2)\n",
      "memory usage: 7.2+ MB\n"
     ]
    },
    {
     "data": {
      "text/html": [
       "<div>\n",
       "<style scoped>\n",
       "    .dataframe tbody tr th:only-of-type {\n",
       "        vertical-align: middle;\n",
       "    }\n",
       "\n",
       "    .dataframe tbody tr th {\n",
       "        vertical-align: top;\n",
       "    }\n",
       "\n",
       "    .dataframe thead th {\n",
       "        text-align: right;\n",
       "    }\n",
       "</style>\n",
       "<table border=\"1\" class=\"dataframe\">\n",
       "  <thead>\n",
       "    <tr style=\"text-align: right;\">\n",
       "      <th></th>\n",
       "      <th>station</th>\n",
       "      <th>datetime</th>\n",
       "      <th>obs_type</th>\n",
       "      <th>obs_value</th>\n",
       "      <th>area</th>\n",
       "      <th>datetime_dt</th>\n",
       "      <th>month</th>\n",
       "      <th>year</th>\n",
       "    </tr>\n",
       "  </thead>\n",
       "  <tbody>\n",
       "    <tr>\n",
       "      <th>0</th>\n",
       "      <td>ASN00048013</td>\n",
       "      <td>18751117</td>\n",
       "      <td>TMAX</td>\n",
       "      <td>38.3</td>\n",
       "      <td>AS</td>\n",
       "      <td>1875-11-17</td>\n",
       "      <td>11</td>\n",
       "      <td>1875</td>\n",
       "    </tr>\n",
       "    <tr>\n",
       "      <th>1</th>\n",
       "      <td>ASN00048013</td>\n",
       "      <td>18751116</td>\n",
       "      <td>TMAX</td>\n",
       "      <td>33.8</td>\n",
       "      <td>AS</td>\n",
       "      <td>1875-11-16</td>\n",
       "      <td>11</td>\n",
       "      <td>1875</td>\n",
       "    </tr>\n",
       "    <tr>\n",
       "      <th>2</th>\n",
       "      <td>ASN00048013</td>\n",
       "      <td>18751115</td>\n",
       "      <td>TMAX</td>\n",
       "      <td>32.8</td>\n",
       "      <td>AS</td>\n",
       "      <td>1875-11-15</td>\n",
       "      <td>11</td>\n",
       "      <td>1875</td>\n",
       "    </tr>\n",
       "    <tr>\n",
       "      <th>3</th>\n",
       "      <td>ASN00048013</td>\n",
       "      <td>18751114</td>\n",
       "      <td>TMAX</td>\n",
       "      <td>35.6</td>\n",
       "      <td>AS</td>\n",
       "      <td>1875-11-14</td>\n",
       "      <td>11</td>\n",
       "      <td>1875</td>\n",
       "    </tr>\n",
       "    <tr>\n",
       "      <th>4</th>\n",
       "      <td>ASN00048013</td>\n",
       "      <td>18751113</td>\n",
       "      <td>TMAX</td>\n",
       "      <td>29.7</td>\n",
       "      <td>AS</td>\n",
       "      <td>1875-11-13</td>\n",
       "      <td>11</td>\n",
       "      <td>1875</td>\n",
       "    </tr>\n",
       "    <tr>\n",
       "      <th>...</th>\n",
       "      <td>...</td>\n",
       "      <td>...</td>\n",
       "      <td>...</td>\n",
       "      <td>...</td>\n",
       "      <td>...</td>\n",
       "      <td>...</td>\n",
       "      <td>...</td>\n",
       "      <td>...</td>\n",
       "    </tr>\n",
       "    <tr>\n",
       "      <th>131815</th>\n",
       "      <td>USW00094728</td>\n",
       "      <td>18700105</td>\n",
       "      <td>TMAX</td>\n",
       "      <td>1.1</td>\n",
       "      <td>US</td>\n",
       "      <td>1870-01-05</td>\n",
       "      <td>1</td>\n",
       "      <td>1870</td>\n",
       "    </tr>\n",
       "    <tr>\n",
       "      <th>131816</th>\n",
       "      <td>USW00094728</td>\n",
       "      <td>18700104</td>\n",
       "      <td>TMAX</td>\n",
       "      <td>1.7</td>\n",
       "      <td>US</td>\n",
       "      <td>1870-01-04</td>\n",
       "      <td>1</td>\n",
       "      <td>1870</td>\n",
       "    </tr>\n",
       "    <tr>\n",
       "      <th>131817</th>\n",
       "      <td>USW00094728</td>\n",
       "      <td>18700103</td>\n",
       "      <td>TMAX</td>\n",
       "      <td>5.0</td>\n",
       "      <td>US</td>\n",
       "      <td>1870-01-03</td>\n",
       "      <td>1</td>\n",
       "      <td>1870</td>\n",
       "    </tr>\n",
       "    <tr>\n",
       "      <th>131818</th>\n",
       "      <td>USW00094728</td>\n",
       "      <td>18700102</td>\n",
       "      <td>TMAX</td>\n",
       "      <td>12.2</td>\n",
       "      <td>US</td>\n",
       "      <td>1870-01-02</td>\n",
       "      <td>1</td>\n",
       "      <td>1870</td>\n",
       "    </tr>\n",
       "    <tr>\n",
       "      <th>131819</th>\n",
       "      <td>USW00094728</td>\n",
       "      <td>18700101</td>\n",
       "      <td>TMAX</td>\n",
       "      <td>6.1</td>\n",
       "      <td>US</td>\n",
       "      <td>1870-01-01</td>\n",
       "      <td>1</td>\n",
       "      <td>1870</td>\n",
       "    </tr>\n",
       "  </tbody>\n",
       "</table>\n",
       "<p>131820 rows × 8 columns</p>\n",
       "</div>"
      ],
      "text/plain": [
       "            station  datetime obs_type  obs_value area datetime_dt  month  \\\n",
       "0       ASN00048013  18751117     TMAX       38.3   AS  1875-11-17     11   \n",
       "1       ASN00048013  18751116     TMAX       33.8   AS  1875-11-16     11   \n",
       "2       ASN00048013  18751115     TMAX       32.8   AS  1875-11-15     11   \n",
       "3       ASN00048013  18751114     TMAX       35.6   AS  1875-11-14     11   \n",
       "4       ASN00048013  18751113     TMAX       29.7   AS  1875-11-13     11   \n",
       "...             ...       ...      ...        ...  ...         ...    ...   \n",
       "131815  USW00094728  18700105     TMAX        1.1   US  1870-01-05      1   \n",
       "131816  USW00094728  18700104     TMAX        1.7   US  1870-01-04      1   \n",
       "131817  USW00094728  18700103     TMAX        5.0   US  1870-01-03      1   \n",
       "131818  USW00094728  18700102     TMAX       12.2   US  1870-01-02      1   \n",
       "131819  USW00094728  18700101     TMAX        6.1   US  1870-01-01      1   \n",
       "\n",
       "        year  \n",
       "0       1875  \n",
       "1       1875  \n",
       "2       1875  \n",
       "3       1875  \n",
       "4       1875  \n",
       "...      ...  \n",
       "131815  1870  \n",
       "131816  1870  \n",
       "131817  1870  \n",
       "131818  1870  \n",
       "131819  1870  \n",
       "\n",
       "[131820 rows x 8 columns]"
      ]
     },
     "execution_count": 10,
     "metadata": {},
     "output_type": "execute_result"
    }
   ],
   "source": [
    "# YOUR CODE HERE\n",
    "df_weather_period[\"area\"]=df_weather_period[\"area\"].astype('category')\n",
    "df_weather_period.info()\n",
    "df_weather_period"
   ]
  },
  {
   "cell_type": "code",
   "execution_count": 11,
   "metadata": {},
   "outputs": [
    {
     "data": {
      "text/html": [
       "<div>\n",
       "<style scoped>\n",
       "    .dataframe tbody tr th:only-of-type {\n",
       "        vertical-align: middle;\n",
       "    }\n",
       "\n",
       "    .dataframe tbody tr th {\n",
       "        vertical-align: top;\n",
       "    }\n",
       "\n",
       "    .dataframe thead th {\n",
       "        text-align: right;\n",
       "    }\n",
       "</style>\n",
       "<table border=\"1\" class=\"dataframe\">\n",
       "  <thead>\n",
       "    <tr style=\"text-align: right;\">\n",
       "      <th></th>\n",
       "      <th>station</th>\n",
       "      <th>datetime</th>\n",
       "      <th>obs_type</th>\n",
       "      <th>obs_value</th>\n",
       "      <th>area</th>\n",
       "      <th>datetime_dt</th>\n",
       "      <th>month</th>\n",
       "      <th>year</th>\n",
       "      <th>obs_value_cat_labeled</th>\n",
       "    </tr>\n",
       "  </thead>\n",
       "  <tbody>\n",
       "    <tr>\n",
       "      <th>0</th>\n",
       "      <td>ASN00048013</td>\n",
       "      <td>18751117</td>\n",
       "      <td>TMAX</td>\n",
       "      <td>38.3</td>\n",
       "      <td>AS</td>\n",
       "      <td>1875-11-17</td>\n",
       "      <td>11</td>\n",
       "      <td>1875</td>\n",
       "      <td>hot</td>\n",
       "    </tr>\n",
       "    <tr>\n",
       "      <th>1</th>\n",
       "      <td>ASN00048013</td>\n",
       "      <td>18751116</td>\n",
       "      <td>TMAX</td>\n",
       "      <td>33.8</td>\n",
       "      <td>AS</td>\n",
       "      <td>1875-11-16</td>\n",
       "      <td>11</td>\n",
       "      <td>1875</td>\n",
       "      <td>hot</td>\n",
       "    </tr>\n",
       "    <tr>\n",
       "      <th>2</th>\n",
       "      <td>ASN00048013</td>\n",
       "      <td>18751115</td>\n",
       "      <td>TMAX</td>\n",
       "      <td>32.8</td>\n",
       "      <td>AS</td>\n",
       "      <td>1875-11-15</td>\n",
       "      <td>11</td>\n",
       "      <td>1875</td>\n",
       "      <td>hot</td>\n",
       "    </tr>\n",
       "    <tr>\n",
       "      <th>3</th>\n",
       "      <td>ASN00048013</td>\n",
       "      <td>18751114</td>\n",
       "      <td>TMAX</td>\n",
       "      <td>35.6</td>\n",
       "      <td>AS</td>\n",
       "      <td>1875-11-14</td>\n",
       "      <td>11</td>\n",
       "      <td>1875</td>\n",
       "      <td>hot</td>\n",
       "    </tr>\n",
       "    <tr>\n",
       "      <th>4</th>\n",
       "      <td>ASN00048013</td>\n",
       "      <td>18751113</td>\n",
       "      <td>TMAX</td>\n",
       "      <td>29.7</td>\n",
       "      <td>AS</td>\n",
       "      <td>1875-11-13</td>\n",
       "      <td>11</td>\n",
       "      <td>1875</td>\n",
       "      <td>hot</td>\n",
       "    </tr>\n",
       "    <tr>\n",
       "      <th>...</th>\n",
       "      <td>...</td>\n",
       "      <td>...</td>\n",
       "      <td>...</td>\n",
       "      <td>...</td>\n",
       "      <td>...</td>\n",
       "      <td>...</td>\n",
       "      <td>...</td>\n",
       "      <td>...</td>\n",
       "      <td>...</td>\n",
       "    </tr>\n",
       "    <tr>\n",
       "      <th>131815</th>\n",
       "      <td>USW00094728</td>\n",
       "      <td>18700105</td>\n",
       "      <td>TMAX</td>\n",
       "      <td>1.1</td>\n",
       "      <td>US</td>\n",
       "      <td>1870-01-05</td>\n",
       "      <td>1</td>\n",
       "      <td>1870</td>\n",
       "      <td>medium</td>\n",
       "    </tr>\n",
       "    <tr>\n",
       "      <th>131816</th>\n",
       "      <td>USW00094728</td>\n",
       "      <td>18700104</td>\n",
       "      <td>TMAX</td>\n",
       "      <td>1.7</td>\n",
       "      <td>US</td>\n",
       "      <td>1870-01-04</td>\n",
       "      <td>1</td>\n",
       "      <td>1870</td>\n",
       "      <td>medium</td>\n",
       "    </tr>\n",
       "    <tr>\n",
       "      <th>131817</th>\n",
       "      <td>USW00094728</td>\n",
       "      <td>18700103</td>\n",
       "      <td>TMAX</td>\n",
       "      <td>5.0</td>\n",
       "      <td>US</td>\n",
       "      <td>1870-01-03</td>\n",
       "      <td>1</td>\n",
       "      <td>1870</td>\n",
       "      <td>medium</td>\n",
       "    </tr>\n",
       "    <tr>\n",
       "      <th>131818</th>\n",
       "      <td>USW00094728</td>\n",
       "      <td>18700102</td>\n",
       "      <td>TMAX</td>\n",
       "      <td>12.2</td>\n",
       "      <td>US</td>\n",
       "      <td>1870-01-02</td>\n",
       "      <td>1</td>\n",
       "      <td>1870</td>\n",
       "      <td>medium</td>\n",
       "    </tr>\n",
       "    <tr>\n",
       "      <th>131819</th>\n",
       "      <td>USW00094728</td>\n",
       "      <td>18700101</td>\n",
       "      <td>TMAX</td>\n",
       "      <td>6.1</td>\n",
       "      <td>US</td>\n",
       "      <td>1870-01-01</td>\n",
       "      <td>1</td>\n",
       "      <td>1870</td>\n",
       "      <td>medium</td>\n",
       "    </tr>\n",
       "  </tbody>\n",
       "</table>\n",
       "<p>131820 rows × 9 columns</p>\n",
       "</div>"
      ],
      "text/plain": [
       "            station  datetime obs_type  obs_value area datetime_dt  month  \\\n",
       "0       ASN00048013  18751117     TMAX       38.3   AS  1875-11-17     11   \n",
       "1       ASN00048013  18751116     TMAX       33.8   AS  1875-11-16     11   \n",
       "2       ASN00048013  18751115     TMAX       32.8   AS  1875-11-15     11   \n",
       "3       ASN00048013  18751114     TMAX       35.6   AS  1875-11-14     11   \n",
       "4       ASN00048013  18751113     TMAX       29.7   AS  1875-11-13     11   \n",
       "...             ...       ...      ...        ...  ...         ...    ...   \n",
       "131815  USW00094728  18700105     TMAX        1.1   US  1870-01-05      1   \n",
       "131816  USW00094728  18700104     TMAX        1.7   US  1870-01-04      1   \n",
       "131817  USW00094728  18700103     TMAX        5.0   US  1870-01-03      1   \n",
       "131818  USW00094728  18700102     TMAX       12.2   US  1870-01-02      1   \n",
       "131819  USW00094728  18700101     TMAX        6.1   US  1870-01-01      1   \n",
       "\n",
       "        year obs_value_cat_labeled  \n",
       "0       1875                   hot  \n",
       "1       1875                   hot  \n",
       "2       1875                   hot  \n",
       "3       1875                   hot  \n",
       "4       1875                   hot  \n",
       "...      ...                   ...  \n",
       "131815  1870                medium  \n",
       "131816  1870                medium  \n",
       "131817  1870                medium  \n",
       "131818  1870                medium  \n",
       "131819  1870                medium  \n",
       "\n",
       "[131820 rows x 9 columns]"
      ]
     },
     "execution_count": 11,
     "metadata": {},
     "output_type": "execute_result"
    }
   ],
   "source": [
    "df_weather_period['obs_value_cat_labeled'] = pd.qcut(df_weather_period.obs_value,q = [0, 0.1, 0.9, 1.0], labels=[\"cold\", \"medium\", \"hot\"])\n",
    "df_weather_period"
   ]
  },
  {
   "cell_type": "code",
   "execution_count": null,
   "metadata": {
    "deletable": false,
    "editable": false,
    "nbgrader": {
     "cell_type": "code",
     "checksum": "6ea686468a1612c1453d6013671443b9",
     "grade": true,
     "grade_id": "problem_232_tests",
     "locked": true,
     "points": 2,
     "schema_version": 3,
     "solution": false,
     "task": false
    }
   },
   "outputs": [],
   "source": []
  },
  {
   "cell_type": "markdown",
   "metadata": {
    "deletable": false,
    "editable": false,
    "nbgrader": {
     "cell_type": "markdown",
     "checksum": "d0e767d450ff726563ebe1bdb729215f",
     "grade": false,
     "grade_id": "cell-77eabac0ab0cbce5",
     "locked": true,
     "schema_version": 3,
     "solution": false,
     "task": false
    }
   },
   "source": [
    "## Problems from Exercise Set 3:"
   ]
  },
  {
   "cell_type": "markdown",
   "metadata": {
    "deletable": false,
    "editable": false,
    "nbgrader": {
     "cell_type": "markdown",
     "checksum": "1f6944ea47bde40b92ba269f19d16439",
     "grade": false,
     "grade_id": "cell-4975a2e1ab215936",
     "locked": true,
     "schema_version": 3,
     "solution": false,
     "task": false
    }
   },
   "source": [
    "> **Ex. 3.3.1:** Compute the mean and median maximum daily temperature for each month-year-station pair on the dataframe `df_weather_period` from last exercise by using the _split-apply-combine_ procedure. Store the results in new columns `tmax_mean` and `tmax_median`."
   ]
  },
  {
   "cell_type": "code",
   "execution_count": 12,
   "metadata": {
    "deletable": false,
    "nbgrader": {
     "cell_type": "code",
     "checksum": "ce92e895d0a63283094fe6c661cb5b66",
     "grade": false,
     "grade_id": "problem_331",
     "locked": false,
     "schema_version": 3,
     "solution": true,
     "task": false
    }
   },
   "outputs": [
    {
     "name": "stdout",
     "output_type": "stream",
     "text": [
      "          station month  year obs_value           \n",
      "                                 median       mean\n",
      "0     ASN00048013     1  1872      35.6  34.429032\n",
      "1     ASN00048013     1  1873      33.9  33.083871\n",
      "2     ASN00048013     1  1874      29.7  30.016129\n",
      "3     ASN00048013     2  1872      33.9  34.003448\n",
      "4     ASN00048013     2  1873      34.4  34.442857\n",
      "...           ...   ...   ...       ...        ...\n",
      "4494  USW00094728    12  1871       2.2   1.751613\n",
      "4495  USW00094728    12  1872       2.2   0.603226\n",
      "4496  USW00094728    12  1873       6.1   6.174194\n",
      "4497  USW00094728    12  1874       5.0   4.593548\n",
      "4498  USW00094728    12  1875       3.9   3.890323\n",
      "\n",
      "[4499 rows x 5 columns]\n"
     ]
    }
   ],
   "source": [
    "# OUR CODE HERE\n",
    "split_vars = ['station', 'month', 'year'] \n",
    "apply_vars = ['obs_value']\n",
    "apply_fcts = ['median', 'mean']\n",
    "combined = df_weather_period.groupby(split_vars)[apply_vars].agg(apply_fcts)\n",
    "\n",
    "print(combined.reset_index())"
   ]
  },
  {
   "cell_type": "code",
   "execution_count": 13,
   "metadata": {},
   "outputs": [
    {
     "data": {
      "text/html": [
       "<div>\n",
       "<style scoped>\n",
       "    .dataframe tbody tr th:only-of-type {\n",
       "        vertical-align: middle;\n",
       "    }\n",
       "\n",
       "    .dataframe tbody tr th {\n",
       "        vertical-align: top;\n",
       "    }\n",
       "\n",
       "    .dataframe thead th {\n",
       "        text-align: right;\n",
       "    }\n",
       "</style>\n",
       "<table border=\"1\" class=\"dataframe\">\n",
       "  <thead>\n",
       "    <tr style=\"text-align: right;\">\n",
       "      <th></th>\n",
       "      <th>station</th>\n",
       "      <th>datetime</th>\n",
       "      <th>obs_type</th>\n",
       "      <th>obs_value</th>\n",
       "      <th>area</th>\n",
       "      <th>datetime_dt</th>\n",
       "      <th>month</th>\n",
       "      <th>year</th>\n",
       "      <th>obs_value_cat_labeled</th>\n",
       "      <th>tmax_mean</th>\n",
       "      <th>tmax_median</th>\n",
       "    </tr>\n",
       "  </thead>\n",
       "  <tbody>\n",
       "    <tr>\n",
       "      <th>0</th>\n",
       "      <td>ASN00048013</td>\n",
       "      <td>18751117</td>\n",
       "      <td>TMAX</td>\n",
       "      <td>38.3</td>\n",
       "      <td>AS</td>\n",
       "      <td>1875-11-17</td>\n",
       "      <td>11</td>\n",
       "      <td>1875</td>\n",
       "      <td>hot</td>\n",
       "      <td>32.241176</td>\n",
       "      <td>31.9</td>\n",
       "    </tr>\n",
       "    <tr>\n",
       "      <th>1</th>\n",
       "      <td>ASN00048013</td>\n",
       "      <td>18751116</td>\n",
       "      <td>TMAX</td>\n",
       "      <td>33.8</td>\n",
       "      <td>AS</td>\n",
       "      <td>1875-11-16</td>\n",
       "      <td>11</td>\n",
       "      <td>1875</td>\n",
       "      <td>hot</td>\n",
       "      <td>32.241176</td>\n",
       "      <td>31.9</td>\n",
       "    </tr>\n",
       "    <tr>\n",
       "      <th>2</th>\n",
       "      <td>ASN00048013</td>\n",
       "      <td>18751115</td>\n",
       "      <td>TMAX</td>\n",
       "      <td>32.8</td>\n",
       "      <td>AS</td>\n",
       "      <td>1875-11-15</td>\n",
       "      <td>11</td>\n",
       "      <td>1875</td>\n",
       "      <td>hot</td>\n",
       "      <td>32.241176</td>\n",
       "      <td>31.9</td>\n",
       "    </tr>\n",
       "    <tr>\n",
       "      <th>3</th>\n",
       "      <td>ASN00048013</td>\n",
       "      <td>18751114</td>\n",
       "      <td>TMAX</td>\n",
       "      <td>35.6</td>\n",
       "      <td>AS</td>\n",
       "      <td>1875-11-14</td>\n",
       "      <td>11</td>\n",
       "      <td>1875</td>\n",
       "      <td>hot</td>\n",
       "      <td>32.241176</td>\n",
       "      <td>31.9</td>\n",
       "    </tr>\n",
       "    <tr>\n",
       "      <th>4</th>\n",
       "      <td>ASN00048013</td>\n",
       "      <td>18751113</td>\n",
       "      <td>TMAX</td>\n",
       "      <td>29.7</td>\n",
       "      <td>AS</td>\n",
       "      <td>1875-11-13</td>\n",
       "      <td>11</td>\n",
       "      <td>1875</td>\n",
       "      <td>hot</td>\n",
       "      <td>32.241176</td>\n",
       "      <td>31.9</td>\n",
       "    </tr>\n",
       "    <tr>\n",
       "      <th>...</th>\n",
       "      <td>...</td>\n",
       "      <td>...</td>\n",
       "      <td>...</td>\n",
       "      <td>...</td>\n",
       "      <td>...</td>\n",
       "      <td>...</td>\n",
       "      <td>...</td>\n",
       "      <td>...</td>\n",
       "      <td>...</td>\n",
       "      <td>...</td>\n",
       "      <td>...</td>\n",
       "    </tr>\n",
       "    <tr>\n",
       "      <th>95</th>\n",
       "      <td>ASN00048013</td>\n",
       "      <td>18750814</td>\n",
       "      <td>TMAX</td>\n",
       "      <td>19.0</td>\n",
       "      <td>AS</td>\n",
       "      <td>1875-08-14</td>\n",
       "      <td>8</td>\n",
       "      <td>1875</td>\n",
       "      <td>medium</td>\n",
       "      <td>21.041935</td>\n",
       "      <td>20.0</td>\n",
       "    </tr>\n",
       "    <tr>\n",
       "      <th>96</th>\n",
       "      <td>ASN00048013</td>\n",
       "      <td>18750813</td>\n",
       "      <td>TMAX</td>\n",
       "      <td>21.1</td>\n",
       "      <td>AS</td>\n",
       "      <td>1875-08-13</td>\n",
       "      <td>8</td>\n",
       "      <td>1875</td>\n",
       "      <td>medium</td>\n",
       "      <td>21.041935</td>\n",
       "      <td>20.0</td>\n",
       "    </tr>\n",
       "    <tr>\n",
       "      <th>97</th>\n",
       "      <td>ASN00048013</td>\n",
       "      <td>18750812</td>\n",
       "      <td>TMAX</td>\n",
       "      <td>20.0</td>\n",
       "      <td>AS</td>\n",
       "      <td>1875-08-12</td>\n",
       "      <td>8</td>\n",
       "      <td>1875</td>\n",
       "      <td>medium</td>\n",
       "      <td>21.041935</td>\n",
       "      <td>20.0</td>\n",
       "    </tr>\n",
       "    <tr>\n",
       "      <th>98</th>\n",
       "      <td>ASN00048013</td>\n",
       "      <td>18750811</td>\n",
       "      <td>TMAX</td>\n",
       "      <td>17.9</td>\n",
       "      <td>AS</td>\n",
       "      <td>1875-08-11</td>\n",
       "      <td>8</td>\n",
       "      <td>1875</td>\n",
       "      <td>medium</td>\n",
       "      <td>21.041935</td>\n",
       "      <td>20.0</td>\n",
       "    </tr>\n",
       "    <tr>\n",
       "      <th>99</th>\n",
       "      <td>ASN00048013</td>\n",
       "      <td>18750810</td>\n",
       "      <td>TMAX</td>\n",
       "      <td>19.8</td>\n",
       "      <td>AS</td>\n",
       "      <td>1875-08-10</td>\n",
       "      <td>8</td>\n",
       "      <td>1875</td>\n",
       "      <td>medium</td>\n",
       "      <td>21.041935</td>\n",
       "      <td>20.0</td>\n",
       "    </tr>\n",
       "  </tbody>\n",
       "</table>\n",
       "<p>100 rows × 11 columns</p>\n",
       "</div>"
      ],
      "text/plain": [
       "        station  datetime obs_type  obs_value area datetime_dt  month  year  \\\n",
       "0   ASN00048013  18751117     TMAX       38.3   AS  1875-11-17     11  1875   \n",
       "1   ASN00048013  18751116     TMAX       33.8   AS  1875-11-16     11  1875   \n",
       "2   ASN00048013  18751115     TMAX       32.8   AS  1875-11-15     11  1875   \n",
       "3   ASN00048013  18751114     TMAX       35.6   AS  1875-11-14     11  1875   \n",
       "4   ASN00048013  18751113     TMAX       29.7   AS  1875-11-13     11  1875   \n",
       "..          ...       ...      ...        ...  ...         ...    ...   ...   \n",
       "95  ASN00048013  18750814     TMAX       19.0   AS  1875-08-14      8  1875   \n",
       "96  ASN00048013  18750813     TMAX       21.1   AS  1875-08-13      8  1875   \n",
       "97  ASN00048013  18750812     TMAX       20.0   AS  1875-08-12      8  1875   \n",
       "98  ASN00048013  18750811     TMAX       17.9   AS  1875-08-11      8  1875   \n",
       "99  ASN00048013  18750810     TMAX       19.8   AS  1875-08-10      8  1875   \n",
       "\n",
       "   obs_value_cat_labeled  tmax_mean  tmax_median  \n",
       "0                    hot  32.241176         31.9  \n",
       "1                    hot  32.241176         31.9  \n",
       "2                    hot  32.241176         31.9  \n",
       "3                    hot  32.241176         31.9  \n",
       "4                    hot  32.241176         31.9  \n",
       "..                   ...        ...          ...  \n",
       "95                medium  21.041935         20.0  \n",
       "96                medium  21.041935         20.0  \n",
       "97                medium  21.041935         20.0  \n",
       "98                medium  21.041935         20.0  \n",
       "99                medium  21.041935         20.0  \n",
       "\n",
       "[100 rows x 11 columns]"
      ]
     },
     "execution_count": 13,
     "metadata": {},
     "output_type": "execute_result"
    }
   ],
   "source": [
    "df_weather_period['tmax_mean'] = df_weather_period.groupby(split_vars)[apply_vars].transform('mean')\n",
    "df_weather_period['tmax_median'] = df_weather_period.groupby(split_vars)[apply_vars].transform('median')\n",
    "\n",
    "df_weather_period.head(100)"
   ]
  },
  {
   "cell_type": "code",
   "execution_count": null,
   "metadata": {
    "deletable": false,
    "editable": false,
    "nbgrader": {
     "cell_type": "code",
     "checksum": "b200933c81339b97661155bc29d76cef",
     "grade": true,
     "grade_id": "problem_331_tests",
     "locked": true,
     "points": 1,
     "schema_version": 3,
     "solution": false,
     "task": false
    }
   },
   "outputs": [],
   "source": []
  },
  {
   "cell_type": "markdown",
   "metadata": {
    "deletable": false,
    "editable": false,
    "nbgrader": {
     "cell_type": "markdown",
     "checksum": "0e4d376c6fe462ddc61d2839b982968b",
     "grade": false,
     "grade_id": "cell-7e77713f98953bac",
     "locked": true,
     "schema_version": 3,
     "solution": false,
     "task": false
    }
   },
   "source": [
    "> **Ex. 3.3.2:** Plot the monthly max,min, mean, first and third quartiles for maximum temperature for the station with ID _'CA006110549'_ from `df_weather_period`.\n",
    "\n",
    "> *Hint*: the method `describe` computes all these measures. Try to make your plot look like the one below. \n",
    "\n",
    "<img src=\"station_data_plot.png\">"
   ]
  },
  {
   "cell_type": "code",
   "execution_count": 14,
   "metadata": {
    "deletable": false,
    "nbgrader": {
     "cell_type": "code",
     "checksum": "ca1afdbf1edee8beacbfc1e95d6ac2e4",
     "grade": true,
     "grade_id": "problem_332_tests",
     "locked": false,
     "points": 4,
     "schema_version": 3,
     "solution": true,
     "task": false
    }
   },
   "outputs": [
    {
     "data": {
      "text/html": [
       "<div>\n",
       "<style scoped>\n",
       "    .dataframe tbody tr th:only-of-type {\n",
       "        vertical-align: middle;\n",
       "    }\n",
       "\n",
       "    .dataframe tbody tr th {\n",
       "        vertical-align: top;\n",
       "    }\n",
       "\n",
       "    .dataframe thead th {\n",
       "        text-align: right;\n",
       "    }\n",
       "</style>\n",
       "<table border=\"1\" class=\"dataframe\">\n",
       "  <thead>\n",
       "    <tr style=\"text-align: right;\">\n",
       "      <th></th>\n",
       "      <th>count</th>\n",
       "      <th>mean</th>\n",
       "      <th>std</th>\n",
       "      <th>min</th>\n",
       "      <th>25%</th>\n",
       "      <th>50%</th>\n",
       "      <th>75%</th>\n",
       "      <th>max</th>\n",
       "    </tr>\n",
       "    <tr>\n",
       "      <th>month</th>\n",
       "      <th></th>\n",
       "      <th></th>\n",
       "      <th></th>\n",
       "      <th></th>\n",
       "      <th></th>\n",
       "      <th></th>\n",
       "      <th></th>\n",
       "      <th></th>\n",
       "    </tr>\n",
       "  </thead>\n",
       "  <tbody>\n",
       "    <tr>\n",
       "      <th>1</th>\n",
       "      <td>137.0</td>\n",
       "      <td>-1.497080</td>\n",
       "      <td>5.930392</td>\n",
       "      <td>-16.1</td>\n",
       "      <td>-5.600</td>\n",
       "      <td>-0.6</td>\n",
       "      <td>2.200</td>\n",
       "      <td>15.0</td>\n",
       "    </tr>\n",
       "    <tr>\n",
       "      <th>2</th>\n",
       "      <td>126.0</td>\n",
       "      <td>-0.544444</td>\n",
       "      <td>4.844817</td>\n",
       "      <td>-13.3</td>\n",
       "      <td>-3.900</td>\n",
       "      <td>0.0</td>\n",
       "      <td>3.175</td>\n",
       "      <td>11.1</td>\n",
       "    </tr>\n",
       "    <tr>\n",
       "      <th>3</th>\n",
       "      <td>136.0</td>\n",
       "      <td>2.357353</td>\n",
       "      <td>5.116171</td>\n",
       "      <td>-13.9</td>\n",
       "      <td>0.000</td>\n",
       "      <td>2.8</td>\n",
       "      <td>5.725</td>\n",
       "      <td>13.9</td>\n",
       "    </tr>\n",
       "    <tr>\n",
       "      <th>4</th>\n",
       "      <td>77.0</td>\n",
       "      <td>10.779221</td>\n",
       "      <td>5.567252</td>\n",
       "      <td>-1.1</td>\n",
       "      <td>6.700</td>\n",
       "      <td>10.0</td>\n",
       "      <td>13.900</td>\n",
       "      <td>26.7</td>\n",
       "    </tr>\n",
       "    <tr>\n",
       "      <th>5</th>\n",
       "      <td>81.0</td>\n",
       "      <td>20.225926</td>\n",
       "      <td>6.403764</td>\n",
       "      <td>5.0</td>\n",
       "      <td>15.600</td>\n",
       "      <td>19.4</td>\n",
       "      <td>23.900</td>\n",
       "      <td>32.8</td>\n",
       "    </tr>\n",
       "    <tr>\n",
       "      <th>6</th>\n",
       "      <td>76.0</td>\n",
       "      <td>26.842105</td>\n",
       "      <td>4.864491</td>\n",
       "      <td>15.6</td>\n",
       "      <td>23.900</td>\n",
       "      <td>26.7</td>\n",
       "      <td>31.100</td>\n",
       "      <td>35.6</td>\n",
       "    </tr>\n",
       "    <tr>\n",
       "      <th>7</th>\n",
       "      <td>80.0</td>\n",
       "      <td>26.410000</td>\n",
       "      <td>3.740020</td>\n",
       "      <td>16.7</td>\n",
       "      <td>23.175</td>\n",
       "      <td>26.4</td>\n",
       "      <td>28.450</td>\n",
       "      <td>35.6</td>\n",
       "    </tr>\n",
       "    <tr>\n",
       "      <th>8</th>\n",
       "      <td>83.0</td>\n",
       "      <td>26.675904</td>\n",
       "      <td>3.484901</td>\n",
       "      <td>16.1</td>\n",
       "      <td>25.000</td>\n",
       "      <td>26.7</td>\n",
       "      <td>29.150</td>\n",
       "      <td>34.4</td>\n",
       "    </tr>\n",
       "    <tr>\n",
       "      <th>9</th>\n",
       "      <td>81.0</td>\n",
       "      <td>21.286420</td>\n",
       "      <td>5.979209</td>\n",
       "      <td>10.0</td>\n",
       "      <td>17.200</td>\n",
       "      <td>21.1</td>\n",
       "      <td>26.100</td>\n",
       "      <td>34.4</td>\n",
       "    </tr>\n",
       "    <tr>\n",
       "      <th>10</th>\n",
       "      <td>84.0</td>\n",
       "      <td>14.564286</td>\n",
       "      <td>5.652735</td>\n",
       "      <td>1.7</td>\n",
       "      <td>10.000</td>\n",
       "      <td>14.4</td>\n",
       "      <td>17.800</td>\n",
       "      <td>25.6</td>\n",
       "    </tr>\n",
       "    <tr>\n",
       "      <th>11</th>\n",
       "      <td>82.0</td>\n",
       "      <td>3.019512</td>\n",
       "      <td>5.534369</td>\n",
       "      <td>-11.1</td>\n",
       "      <td>0.000</td>\n",
       "      <td>2.8</td>\n",
       "      <td>6.700</td>\n",
       "      <td>15.0</td>\n",
       "    </tr>\n",
       "    <tr>\n",
       "      <th>12</th>\n",
       "      <td>109.0</td>\n",
       "      <td>-0.928440</td>\n",
       "      <td>5.498655</td>\n",
       "      <td>-18.3</td>\n",
       "      <td>-3.900</td>\n",
       "      <td>-0.6</td>\n",
       "      <td>2.800</td>\n",
       "      <td>12.2</td>\n",
       "    </tr>\n",
       "  </tbody>\n",
       "</table>\n",
       "</div>"
      ],
      "text/plain": [
       "       count       mean       std   min     25%   50%     75%   max\n",
       "month                                                              \n",
       "1      137.0  -1.497080  5.930392 -16.1  -5.600  -0.6   2.200  15.0\n",
       "2      126.0  -0.544444  4.844817 -13.3  -3.900   0.0   3.175  11.1\n",
       "3      136.0   2.357353  5.116171 -13.9   0.000   2.8   5.725  13.9\n",
       "4       77.0  10.779221  5.567252  -1.1   6.700  10.0  13.900  26.7\n",
       "5       81.0  20.225926  6.403764   5.0  15.600  19.4  23.900  32.8\n",
       "6       76.0  26.842105  4.864491  15.6  23.900  26.7  31.100  35.6\n",
       "7       80.0  26.410000  3.740020  16.7  23.175  26.4  28.450  35.6\n",
       "8       83.0  26.675904  3.484901  16.1  25.000  26.7  29.150  34.4\n",
       "9       81.0  21.286420  5.979209  10.0  17.200  21.1  26.100  34.4\n",
       "10      84.0  14.564286  5.652735   1.7  10.000  14.4  17.800  25.6\n",
       "11      82.0   3.019512  5.534369 -11.1   0.000   2.8   6.700  15.0\n",
       "12     109.0  -0.928440  5.498655 -18.3  -3.900  -0.6   2.800  12.2"
      ]
     },
     "execution_count": 14,
     "metadata": {},
     "output_type": "execute_result"
    }
   ],
   "source": [
    "# YOUR CODE HERE\n",
    "import pandas as pd\n",
    "import matplotlib.pyplot as plt\n",
    "import numpy as np\n",
    "import seaborn as sns\n",
    "\n",
    "df_station1 = df_weather_period.loc[df_weather_period['station'] ==  'CA006110549']\n",
    "\n",
    "\n",
    "split_var = 'month' \n",
    "apply_var = 'obs_value' \n",
    "\n",
    "df_station1_dis = df_station1.groupby(split_var)[apply_var].describe()\n",
    "\n",
    "df_station1_dis\n"
   ]
  },
  {
   "cell_type": "code",
   "execution_count": 15,
   "metadata": {},
   "outputs": [
    {
     "data": {
      "text/plain": [
       "<matplotlib.legend.Legend at 0x7fe294deeb80>"
      ]
     },
     "execution_count": 15,
     "metadata": {},
     "output_type": "execute_result"
    },
    {
     "data": {
      "image/png": "[encoded data removed]",
      "text/plain": [
       "<Figure size 504x360 with 1 Axes>"
      ]
     },
     "metadata": {
      "needs_background": "light"
     },
     "output_type": "display_data"
    }
   ],
   "source": [
    "f = plt.subplots(1, sharex=True, figsize=(7,5))\n",
    "\n",
    "sns.lineplot(data=df_station1_dis, x=\"month\", y=\"mean\", color = \"red\")\n",
    "sns.lineplot(data=df_station1_dis, x=\"month\", y=\"25%\", linestyle='--', color = \"blue\")\n",
    "sns.lineplot(data=df_station1_dis, x=\"month\", y=\"75%\", linestyle='--', color = \"blue\")\n",
    "\n",
    "sns.scatterplot(data=df_station1_dis, x=\"month\", y=\"min\", color=\"blue\")\n",
    "sns.scatterplot(data=df_station1_dis, x=\"month\", y=\"max\", color=\"blue\")\n",
    "\n",
    "plt.suptitle('Average and brands for temperature at CA006110549')\n",
    "plt.legend(labels=[\"mean\",\"25%\", \"75%\", \"min\",\"max\"])"
   ]
  },
  {
   "cell_type": "code",
   "execution_count": null,
   "metadata": {},
   "outputs": [],
   "source": []
  },
  {
   "cell_type": "markdown",
   "metadata": {
    "deletable": false,
    "editable": false,
    "nbgrader": {
     "cell_type": "markdown",
     "checksum": "cf7d78380538170cdb3f8da6d976c6cd",
     "grade": false,
     "grade_id": "cell-539af69a1ea23069",
     "locked": true,
     "schema_version": 3,
     "solution": false,
     "task": false
    }
   },
   "source": [
    "> **Ex. 3.3.3: (MODIFIED FOR ASSIGNMENT 1)** We want to use the location data of the weather stations and merge this onto `df_weather_period`. The file with station location data is called  `ghcnd-stations.txt` and is stored in the `data.zip` file. Therefore, by Ex. 2.X.2, it should now be located in the `data` folder of this directory. `pandas` has a function named [`read_fwf`](https://pandas.pydata.org/docs/reference/api/pandas.read_fwf.html) which can be used to read a txt file with a fixed width format (each variable spans a fixed amount of columns). The function is neat and can infer how many columns each variable spans automatically (if the `infer_nrows` parameter is set properly). One can also manually set the `colspecs` parameter equal to a list of tuples containing the fixed-width intervals that the variables span. In the following exercise we will use some extra time and do the job manually to practice our txt file and string skills. Specifically, we will extract the list of tuples with fixed-widht information together with the column names and datatypes from the `ghcnd-stations-column-metadata.txt` file (also included in the `data.zip` file). \n",
    "\n",
    "> The `ghcnd-stations-column-metadata.txt` file looks like this: \n",
    "\n",
    "```\n",
    "------------------------------\n",
    "Variable   Columns   Type\n",
    "------------------------------\n",
    "ID            1-11   Character\n",
    "LATITUDE     13-20   Real\n",
    "LONGITUDE    22-30   Real\n",
    "ELEVATION    32-37   Real\n",
    "STATE        39-40   Character\n",
    "NAME         42-71   Character\n",
    "GSN FLAG     73-75   Character\n",
    "HCN/CRN FLAG 77-79   Character\n",
    "WMO ID       81-85   Character\n",
    "------------------------------\n",
    "```"
   ]
  },
  {
   "cell_type": "markdown",
   "metadata": {
    "deletable": false,
    "editable": false,
    "nbgrader": {
     "cell_type": "markdown",
     "checksum": "f4d926a239ad69a32e6ddcb443ef42a0",
     "grade": false,
     "grade_id": "cell-6a3113e42875692a",
     "locked": true,
     "schema_version": 3,
     "solution": false,
     "task": false
    }
   },
   "source": [
    "> **Ex. 3.3.3.1:** Read the `ghcnd-stations-column-metadata.txt` using the `with` keyword, see [here](https://docs.python.org/3/tutorial/inputoutput.html#reading-and-writing-files), and store it in a variable called `column_metadata`. "
   ]
  },
  {
   "cell_type": "code",
   "execution_count": 16,
   "metadata": {
    "deletable": false,
    "nbgrader": {
     "cell_type": "code",
     "checksum": "be143fcf053d269b2048157e33dc225c",
     "grade": false,
     "grade_id": "3331",
     "locked": false,
     "schema_version": 3,
     "solution": true,
     "task": false
    }
   },
   "outputs": [
    {
     "data": {
      "text/plain": [
       "'------------------------------\\nVariable   Columns   Type\\n------------------------------\\nID            1-11   Character\\nLATITUDE     13-20   Real\\nLONGITUDE    22-30   Real\\nELEVATION    32-37   Real\\nSTATE        39-40   Character\\nNAME         42-71   Character\\nGSN FLAG     73-75   Character\\nHCN/CRN FLAG 77-79   Character\\nWMO ID       81-85   Character\\n------------------------------\\n'"
      ]
     },
     "execution_count": 16,
     "metadata": {},
     "output_type": "execute_result"
    }
   ],
   "source": [
    "# YOUR CODE HERE\n",
    "path = Path.cwd() / \"data\" / r'ghcnd-stations-column-metadata.txt'\n",
    "with open(path, encoding = 'utf-8' ) as f:\n",
    "    column_metadata = f.read()\n",
    "\n",
    "column_metadata"
   ]
  },
  {
   "cell_type": "code",
   "execution_count": null,
   "metadata": {
    "deletable": false,
    "editable": false,
    "nbgrader": {
     "cell_type": "code",
     "checksum": "1406fd53b4dd29083588279108f8b861",
     "grade": true,
     "grade_id": "3331-test",
     "locked": true,
     "points": 1,
     "schema_version": 3,
     "solution": false,
     "task": false
    }
   },
   "outputs": [],
   "source": []
  },
  {
   "cell_type": "markdown",
   "metadata": {
    "deletable": false,
    "editable": false,
    "nbgrader": {
     "cell_type": "markdown",
     "checksum": "5d348ada2f5d006ebbb11b024f7139bc",
     "grade": false,
     "grade_id": "cell-9c66cca32bfbef31",
     "locked": true,
     "schema_version": 3,
     "solution": false,
     "task": false
    }
   },
   "source": [
    "> **Ex. 3.3.3.2:** Split `column_metadata` into a list of strings by applying the method `split` with the proper argument. Subset the resulting list and extract all lines from index `3` to `12` (non-inclusive) of the variable. Store the final list in a variable named `lines`. Inspect the result to make sure the relevant rows of the txt file has been extracted."
   ]
  },
  {
   "cell_type": "code",
   "execution_count": 17,
   "metadata": {
    "deletable": false,
    "nbgrader": {
     "cell_type": "code",
     "checksum": "6850caaabe8ccf9c93f8449beda38043",
     "grade": false,
     "grade_id": "3332",
     "locked": false,
     "schema_version": 3,
     "solution": true,
     "task": false
    }
   },
   "outputs": [
    {
     "data": {
      "text/plain": [
       "['ID            1-11   Character',\n",
       " 'LATITUDE     13-20   Real',\n",
       " 'LONGITUDE    22-30   Real',\n",
       " 'ELEVATION    32-37   Real',\n",
       " 'STATE        39-40   Character',\n",
       " 'NAME         42-71   Character',\n",
       " 'GSN FLAG     73-75   Character',\n",
       " 'HCN/CRN FLAG 77-79   Character',\n",
       " 'WMO ID       81-85   Character']"
      ]
     },
     "execution_count": 17,
     "metadata": {},
     "output_type": "execute_result"
    }
   ],
   "source": [
    "# YOUR CODE HERE\n",
    "lines = column_metadata.split('\\n')[3:12]\n",
    "lines"
   ]
  },
  {
   "cell_type": "code",
   "execution_count": null,
   "metadata": {
    "deletable": false,
    "editable": false,
    "nbgrader": {
     "cell_type": "code",
     "checksum": "a01223ced1b81abc7bb54537a1923fd3",
     "grade": true,
     "grade_id": "3332-tests",
     "locked": true,
     "points": 1,
     "schema_version": 3,
     "solution": false,
     "task": false
    }
   },
   "outputs": [],
   "source": []
  },
  {
   "cell_type": "markdown",
   "metadata": {
    "deletable": false,
    "editable": false,
    "nbgrader": {
     "cell_type": "markdown",
     "checksum": "7a2d97eb10f8245bcb67a28a98be2d91",
     "grade": false,
     "grade_id": "cell-6d6084e723953822",
     "locked": true,
     "schema_version": 3,
     "solution": false,
     "task": false
    }
   },
   "source": [
    "> **Ex. 3.3.3.3:** Inspecting each line of the `lines` variable we see that the information about the column widths are all located from index `13` up and including index `17`. Finish the `get_colspecs` function below to extract the fixed width information from the `lines` variable by completing the steps below:\n",
    "1. Use a list comprehension to loop through each line of the file\n",
    "2. Index each line by the relevant indices written above\n",
    "3. Strip leading whitespace of each element (if necessary)\n",
    "\n",
    "> Finally, apply `get_colspecs` to the `lines` variable and store the result in a new variable called `colspecs`."
   ]
  },
  {
   "cell_type": "code",
   "execution_count": 18,
   "metadata": {
    "deletable": false,
    "nbgrader": {
     "cell_type": "code",
     "checksum": "ca2823ed345d0dd66e8782cd4da05ea2",
     "grade": false,
     "grade_id": "3333",
     "locked": false,
     "schema_version": 3,
     "solution": true,
     "task": false
    }
   },
   "outputs": [
    {
     "data": {
      "text/plain": [
       "['1-11',\n",
       " '13-20',\n",
       " '22-30',\n",
       " '32-37',\n",
       " '39-40',\n",
       " '42-71',\n",
       " '73-75',\n",
       " '77-79',\n",
       " '81-85']"
      ]
     },
     "execution_count": 18,
     "metadata": {},
     "output_type": "execute_result"
    }
   ],
   "source": [
    "def get_colspecs(lines):\n",
    "    colspec_idx_start = 13\n",
    "    colspec_idx_end = 17 + 1 \n",
    "    colspecs = [line[colspec_idx_start:colspec_idx_end].strip() for line in lines]\n",
    "    return colspecs\n",
    "\n",
    "\n",
    "colspecs = get_colspecs(lines)\n",
    "\n",
    "colspecs"
   ]
  },
  {
   "cell_type": "code",
   "execution_count": null,
   "metadata": {
    "deletable": false,
    "editable": false,
    "nbgrader": {
     "cell_type": "code",
     "checksum": "44cd16c209eaf640a81923fb6c6ad3f1",
     "grade": true,
     "grade_id": "3333-tests",
     "locked": true,
     "points": 2,
     "schema_version": 3,
     "solution": false,
     "task": false
    }
   },
   "outputs": [],
   "source": []
  },
  {
   "cell_type": "markdown",
   "metadata": {
    "deletable": false,
    "editable": false,
    "nbgrader": {
     "cell_type": "markdown",
     "checksum": "b4c3b22be2785fd9a8e77273cb088905",
     "grade": false,
     "grade_id": "cell-6d9084804240b2d8",
     "locked": true,
     "schema_version": 3,
     "solution": false,
     "task": false
    }
   },
   "source": [
    "> **Ex. 3.3.3.4:** Write a function named `get_colspec_pair` which takes as input a string variable named `colspec` and returns a tuple of integers. Specifically, the function should take a string similar to each element of `colspecs`, split this string by `-` and return a tuple of integers where\n",
    "1. The first integer should have `1` subtracted from it (Python is 0-indexed!)\n",
    "2. The second integer should stay as it is (the intervals provided to the pandas function `read_fwf` should be non-inclusive)\n",
    "> As an example, applying the function to `\"1-11\"` and `\"13-20\"` should yield the following results:\n",
    "\n",
    "```python\n",
    "print(get_colspec_pair(\"1-11\"))\n",
    "## output: (0, 11)\n",
    "\n",
    "print(get_colspec_pair(\"13-20\"))\n",
    "## output: (12, 20)\n",
    "```\n"
   ]
  },
  {
   "cell_type": "code",
   "execution_count": 19,
   "metadata": {
    "deletable": false,
    "nbgrader": {
     "cell_type": "code",
     "checksum": "7fa3780ae35b45977761ba2fb454216a",
     "grade": false,
     "grade_id": "3334",
     "locked": false,
     "schema_version": 3,
     "solution": true,
     "task": false
    }
   },
   "outputs": [
    {
     "name": "stdout",
     "output_type": "stream",
     "text": [
      "(0, 11)\n"
     ]
    }
   ],
   "source": [
    "# YOUR CODE HERE\n",
    "def get_colspecs_pair(colspecs:str):\n",
    "    split_list = colspecs.split('-')\n",
    "    return int(split_list[0])-1,int(split_list[1])\n",
    "\n",
    "print(get_colspecs_pair(\"1-11\"))"
   ]
  },
  {
   "cell_type": "code",
   "execution_count": null,
   "metadata": {
    "deletable": false,
    "editable": false,
    "nbgrader": {
     "cell_type": "code",
     "checksum": "8fee8d5b0d56d0ec1a96ed593c59a0d4",
     "grade": true,
     "grade_id": "3334-tests",
     "locked": true,
     "points": 2,
     "schema_version": 3,
     "solution": false,
     "task": false
    }
   },
   "outputs": [],
   "source": []
  },
  {
   "cell_type": "markdown",
   "metadata": {
    "deletable": false,
    "editable": false,
    "nbgrader": {
     "cell_type": "markdown",
     "checksum": "0ff7f17567aa4e2fbb44af24bdbcc986",
     "grade": false,
     "grade_id": "cell-cbaa1e1dca8e3015",
     "locked": true,
     "schema_version": 3,
     "solution": false,
     "task": false
    }
   },
   "source": [
    "> **Ex. 3.3.3.5:** Use the `get_colspec_pair` function in a list comprehension where you apply the function to each element in `colspecs`. Store the result in a variable named `colspec_pairs`"
   ]
  },
  {
   "cell_type": "code",
   "execution_count": 20,
   "metadata": {
    "deletable": false,
    "nbgrader": {
     "cell_type": "code",
     "checksum": "3afbf83d84156e24b17573026dfa8248",
     "grade": false,
     "grade_id": "3335",
     "locked": false,
     "schema_version": 3,
     "solution": true,
     "task": false
    }
   },
   "outputs": [
    {
     "data": {
      "text/plain": [
       "[(0, 11),\n",
       " (12, 20),\n",
       " (21, 30),\n",
       " (31, 37),\n",
       " (38, 40),\n",
       " (41, 71),\n",
       " (72, 75),\n",
       " (76, 79),\n",
       " (80, 85)]"
      ]
     },
     "execution_count": 20,
     "metadata": {},
     "output_type": "execute_result"
    }
   ],
   "source": [
    "# YOUR CODE HERE\n",
    "\n",
    "colspec_pairs = [get_colspecs_pair(i) for i in colspecs]\n",
    "colspec_pairs"
   ]
  },
  {
   "cell_type": "code",
   "execution_count": null,
   "metadata": {
    "deletable": false,
    "editable": false,
    "nbgrader": {
     "cell_type": "code",
     "checksum": "a12fae1b1b368de38f3c30a3e1cdc965",
     "grade": true,
     "grade_id": "3335-tests",
     "locked": true,
     "points": 2,
     "schema_version": 3,
     "solution": false,
     "task": false
    }
   },
   "outputs": [],
   "source": []
  },
  {
   "cell_type": "markdown",
   "metadata": {
    "deletable": false,
    "editable": false,
    "nbgrader": {
     "cell_type": "markdown",
     "checksum": "2be26e96b4592760cfc20c18c6da9b1e",
     "grade": false,
     "grade_id": "cell-5535ad3d8666836b",
     "locked": true,
     "schema_version": 3,
     "solution": false,
     "task": false
    }
   },
   "source": [
    "> **Ex. 3.3.3.6:** Because the fixed width column information spans the interval from `13` up and including index `17`, we know that the entries from `0` to `13` (non-inclusive) are the column names and the entries from `18` to the end of each line are the data types. Write two functions named `get_column_names` and `get_column_dtypes` which return a list of column names and a list of the data types of the columns, respectively. Remember to strip all redundant whitespace using the string method `strip`. Apply the function `get_column_names` to the `lines` variable and store the output in a variable named `column_names`. Likewise, apply the function `get_column_dtypes` to the `lines` variable and store the output in a variable named `column_dtypes`."
   ]
  },
  {
   "cell_type": "code",
   "execution_count": 21,
   "metadata": {
    "deletable": false,
    "nbgrader": {
     "cell_type": "code",
     "checksum": "f19450632f6c6d1d4d948405258b3f5c",
     "grade": false,
     "grade_id": "3336",
     "locked": false,
     "schema_version": 3,
     "solution": true,
     "task": false
    }
   },
   "outputs": [],
   "source": [
    "# OUR CODE HERE\n",
    "def get_column_names(lines):\n",
    "    names_idx_start = 0\n",
    "    names_idx_end = 12 + 1\n",
    "    column_names = [line[names_idx_start:names_idx_end].strip() for line in lines]\n",
    "    return column_names\n",
    " \n",
    "column_names = get_column_names(lines)\n",
    "\n",
    "def get_column_dtypes(lines):\n",
    "    types_idx_start = 18\n",
    "    types_idx_end = 999\n",
    "    column_dtypes = [line[types_idx_start:types_idx_end].strip() for line in lines]\n",
    "    return column_dtypes\n",
    " \n",
    "column_dtypes = get_column_dtypes(lines)\n"
   ]
  },
  {
   "cell_type": "code",
   "execution_count": null,
   "metadata": {
    "deletable": false,
    "editable": false,
    "nbgrader": {
     "cell_type": "code",
     "checksum": "8a4ad3c2aaa3e244b71d02a9c0d99303",
     "grade": true,
     "grade_id": "3336-tests",
     "locked": true,
     "points": 3,
     "schema_version": 3,
     "solution": false,
     "task": false
    }
   },
   "outputs": [],
   "source": []
  },
  {
   "cell_type": "markdown",
   "metadata": {
    "deletable": false,
    "editable": false,
    "nbgrader": {
     "cell_type": "markdown",
     "checksum": "42c0ef12aadd154859e3b41b8c7fabc1",
     "grade": false,
     "grade_id": "cell-6a9d81f37628d1ad",
     "locked": true,
     "schema_version": 3,
     "solution": false,
     "task": false
    }
   },
   "source": [
    "> **Ex. 3.3.3.7:** Replace each `\"character\"` entry with `\"str\"` and each `\"real\"` entry with `\"float32\"` of the list `column_dtypes`. Store the result of this in the same variable `column_dtypes`. "
   ]
  },
  {
   "cell_type": "code",
   "execution_count": 22,
   "metadata": {
    "deletable": false,
    "nbgrader": {
     "cell_type": "code",
     "checksum": "2c43672a0ccde0a6cb5b628a91dfcd4d",
     "grade": false,
     "grade_id": "3337",
     "locked": false,
     "schema_version": 3,
     "solution": true,
     "task": false
    },
    "scrolled": true
   },
   "outputs": [
    {
     "data": {
      "text/plain": [
       "['str', 'float32', 'float32', 'float32', 'str', 'str', 'str', 'str', 'str']"
      ]
     },
     "execution_count": 22,
     "metadata": {},
     "output_type": "execute_result"
    }
   ],
   "source": [
    "# OUR CODE HERE\n",
    "column_dtypes_ny=[]\n",
    "for i in column_dtypes:\n",
    "    type_str=i.replace('Character', 'str')\n",
    "    type_float32=type_str.replace('Real', 'float32')\n",
    "    column_dtypes_ny.append(type_float32)\n",
    "column_dtypes=column_dtypes_ny\n",
    "column_dtypes"
   ]
  },
  {
   "cell_type": "code",
   "execution_count": null,
   "metadata": {
    "deletable": false,
    "editable": false,
    "nbgrader": {
     "cell_type": "code",
     "checksum": "f3afd09a2073e36c109317f6e1f1b56e",
     "grade": true,
     "grade_id": "3337-tests",
     "locked": true,
     "points": 2,
     "schema_version": 3,
     "solution": false,
     "task": false
    }
   },
   "outputs": [],
   "source": []
  },
  {
   "cell_type": "markdown",
   "metadata": {
    "deletable": false,
    "editable": false,
    "nbgrader": {
     "cell_type": "markdown",
     "checksum": "517454579c02edf82638e4d2f6769d05",
     "grade": false,
     "grade_id": "cell-75834af9070629b1",
     "locked": true,
     "schema_version": 3,
     "solution": false,
     "task": false
    }
   },
   "source": [
    "> **Ex. 3.3.3.8:** Load the `ghcnd-stations.txt` data using the `read_fwf` method of pandas setting the `names` parameter equal to `column_names` and the `colspecs` parameter equal to  `colspec_pairs`. Store the result in a variable named `locations`. Next, use the `astype` method on `locations` to set the dtypes of the columns. Use the `col_to_dtype` mapping below as input argument to `astype`. Finally, rename the `id` column to `station` and left-merge `locations` onto `df_weather_period`. Store the merged dataframe in the variable `df_weather_merged`."
   ]
  },
  {
   "cell_type": "code",
   "execution_count": 23,
   "metadata": {
    "deletable": false,
    "nbgrader": {
     "cell_type": "code",
     "checksum": "f95d9887f5f7d1bb9294ef49c9ac05e3",
     "grade": true,
     "grade_id": "3338",
     "locked": false,
     "points": 3,
     "schema_version": 3,
     "solution": true,
     "task": false
    },
    "scrolled": true
   },
   "outputs": [
    {
     "data": {
      "text/html": [
       "<div>\n",
       "<style scoped>\n",
       "    .dataframe tbody tr th:only-of-type {\n",
       "        vertical-align: middle;\n",
       "    }\n",
       "\n",
       "    .dataframe tbody tr th {\n",
       "        vertical-align: top;\n",
       "    }\n",
       "\n",
       "    .dataframe thead th {\n",
       "        text-align: right;\n",
       "    }\n",
       "</style>\n",
       "<table border=\"1\" class=\"dataframe\">\n",
       "  <thead>\n",
       "    <tr style=\"text-align: right;\">\n",
       "      <th></th>\n",
       "      <th>station</th>\n",
       "      <th>datetime</th>\n",
       "      <th>obs_type</th>\n",
       "      <th>obs_value</th>\n",
       "      <th>area</th>\n",
       "      <th>datetime_dt</th>\n",
       "      <th>month</th>\n",
       "      <th>year</th>\n",
       "      <th>obs_value_cat_labeled</th>\n",
       "      <th>tmax_mean</th>\n",
       "      <th>tmax_median</th>\n",
       "      <th>LATITUDE</th>\n",
       "      <th>LONGITUDE</th>\n",
       "      <th>ELEVATION</th>\n",
       "      <th>STATE</th>\n",
       "      <th>NAME</th>\n",
       "      <th>GSN FLAG</th>\n",
       "      <th>HCN/CRN FLAG</th>\n",
       "      <th>WMO ID</th>\n",
       "    </tr>\n",
       "  </thead>\n",
       "  <tbody>\n",
       "    <tr>\n",
       "      <th>0</th>\n",
       "      <td>ASN00048013</td>\n",
       "      <td>18751117</td>\n",
       "      <td>TMAX</td>\n",
       "      <td>38.3</td>\n",
       "      <td>AS</td>\n",
       "      <td>1875-11-17</td>\n",
       "      <td>11</td>\n",
       "      <td>1875</td>\n",
       "      <td>hot</td>\n",
       "      <td>32.241176</td>\n",
       "      <td>31.9</td>\n",
       "      <td>-30.0917</td>\n",
       "      <td>145.935806</td>\n",
       "      <td>106.000000</td>\n",
       "      <td>nan</td>\n",
       "      <td>BOURKE POST OFFICE</td>\n",
       "      <td>nan</td>\n",
       "      <td>nan</td>\n",
       "      <td>nan</td>\n",
       "    </tr>\n",
       "    <tr>\n",
       "      <th>1</th>\n",
       "      <td>ASN00048013</td>\n",
       "      <td>18751116</td>\n",
       "      <td>TMAX</td>\n",
       "      <td>33.8</td>\n",
       "      <td>AS</td>\n",
       "      <td>1875-11-16</td>\n",
       "      <td>11</td>\n",
       "      <td>1875</td>\n",
       "      <td>hot</td>\n",
       "      <td>32.241176</td>\n",
       "      <td>31.9</td>\n",
       "      <td>-30.0917</td>\n",
       "      <td>145.935806</td>\n",
       "      <td>106.000000</td>\n",
       "      <td>nan</td>\n",
       "      <td>BOURKE POST OFFICE</td>\n",
       "      <td>nan</td>\n",
       "      <td>nan</td>\n",
       "      <td>nan</td>\n",
       "    </tr>\n",
       "    <tr>\n",
       "      <th>2</th>\n",
       "      <td>ASN00048013</td>\n",
       "      <td>18751115</td>\n",
       "      <td>TMAX</td>\n",
       "      <td>32.8</td>\n",
       "      <td>AS</td>\n",
       "      <td>1875-11-15</td>\n",
       "      <td>11</td>\n",
       "      <td>1875</td>\n",
       "      <td>hot</td>\n",
       "      <td>32.241176</td>\n",
       "      <td>31.9</td>\n",
       "      <td>-30.0917</td>\n",
       "      <td>145.935806</td>\n",
       "      <td>106.000000</td>\n",
       "      <td>nan</td>\n",
       "      <td>BOURKE POST OFFICE</td>\n",
       "      <td>nan</td>\n",
       "      <td>nan</td>\n",
       "      <td>nan</td>\n",
       "    </tr>\n",
       "    <tr>\n",
       "      <th>3</th>\n",
       "      <td>ASN00048013</td>\n",
       "      <td>18751114</td>\n",
       "      <td>TMAX</td>\n",
       "      <td>35.6</td>\n",
       "      <td>AS</td>\n",
       "      <td>1875-11-14</td>\n",
       "      <td>11</td>\n",
       "      <td>1875</td>\n",
       "      <td>hot</td>\n",
       "      <td>32.241176</td>\n",
       "      <td>31.9</td>\n",
       "      <td>-30.0917</td>\n",
       "      <td>145.935806</td>\n",
       "      <td>106.000000</td>\n",
       "      <td>nan</td>\n",
       "      <td>BOURKE POST OFFICE</td>\n",
       "      <td>nan</td>\n",
       "      <td>nan</td>\n",
       "      <td>nan</td>\n",
       "    </tr>\n",
       "    <tr>\n",
       "      <th>4</th>\n",
       "      <td>ASN00048013</td>\n",
       "      <td>18751113</td>\n",
       "      <td>TMAX</td>\n",
       "      <td>29.7</td>\n",
       "      <td>AS</td>\n",
       "      <td>1875-11-13</td>\n",
       "      <td>11</td>\n",
       "      <td>1875</td>\n",
       "      <td>hot</td>\n",
       "      <td>32.241176</td>\n",
       "      <td>31.9</td>\n",
       "      <td>-30.0917</td>\n",
       "      <td>145.935806</td>\n",
       "      <td>106.000000</td>\n",
       "      <td>nan</td>\n",
       "      <td>BOURKE POST OFFICE</td>\n",
       "      <td>nan</td>\n",
       "      <td>nan</td>\n",
       "      <td>nan</td>\n",
       "    </tr>\n",
       "    <tr>\n",
       "      <th>...</th>\n",
       "      <td>...</td>\n",
       "      <td>...</td>\n",
       "      <td>...</td>\n",
       "      <td>...</td>\n",
       "      <td>...</td>\n",
       "      <td>...</td>\n",
       "      <td>...</td>\n",
       "      <td>...</td>\n",
       "      <td>...</td>\n",
       "      <td>...</td>\n",
       "      <td>...</td>\n",
       "      <td>...</td>\n",
       "      <td>...</td>\n",
       "      <td>...</td>\n",
       "      <td>...</td>\n",
       "      <td>...</td>\n",
       "      <td>...</td>\n",
       "      <td>...</td>\n",
       "      <td>...</td>\n",
       "    </tr>\n",
       "    <tr>\n",
       "      <th>131815</th>\n",
       "      <td>USW00094728</td>\n",
       "      <td>18700105</td>\n",
       "      <td>TMAX</td>\n",
       "      <td>1.1</td>\n",
       "      <td>US</td>\n",
       "      <td>1870-01-05</td>\n",
       "      <td>1</td>\n",
       "      <td>1870</td>\n",
       "      <td>medium</td>\n",
       "      <td>6.564516</td>\n",
       "      <td>6.7</td>\n",
       "      <td>40.7789</td>\n",
       "      <td>-73.969200</td>\n",
       "      <td>39.599998</td>\n",
       "      <td>NY</td>\n",
       "      <td>NEW YORK CNTRL PK TWR</td>\n",
       "      <td>nan</td>\n",
       "      <td>HCN</td>\n",
       "      <td>72506.0</td>\n",
       "    </tr>\n",
       "    <tr>\n",
       "      <th>131816</th>\n",
       "      <td>USW00094728</td>\n",
       "      <td>18700104</td>\n",
       "      <td>TMAX</td>\n",
       "      <td>1.7</td>\n",
       "      <td>US</td>\n",
       "      <td>1870-01-04</td>\n",
       "      <td>1</td>\n",
       "      <td>1870</td>\n",
       "      <td>medium</td>\n",
       "      <td>6.564516</td>\n",
       "      <td>6.7</td>\n",
       "      <td>40.7789</td>\n",
       "      <td>-73.969200</td>\n",
       "      <td>39.599998</td>\n",
       "      <td>NY</td>\n",
       "      <td>NEW YORK CNTRL PK TWR</td>\n",
       "      <td>nan</td>\n",
       "      <td>HCN</td>\n",
       "      <td>72506.0</td>\n",
       "    </tr>\n",
       "    <tr>\n",
       "      <th>131817</th>\n",
       "      <td>USW00094728</td>\n",
       "      <td>18700103</td>\n",
       "      <td>TMAX</td>\n",
       "      <td>5.0</td>\n",
       "      <td>US</td>\n",
       "      <td>1870-01-03</td>\n",
       "      <td>1</td>\n",
       "      <td>1870</td>\n",
       "      <td>medium</td>\n",
       "      <td>6.564516</td>\n",
       "      <td>6.7</td>\n",
       "      <td>40.7789</td>\n",
       "      <td>-73.969200</td>\n",
       "      <td>39.599998</td>\n",
       "      <td>NY</td>\n",
       "      <td>NEW YORK CNTRL PK TWR</td>\n",
       "      <td>nan</td>\n",
       "      <td>HCN</td>\n",
       "      <td>72506.0</td>\n",
       "    </tr>\n",
       "    <tr>\n",
       "      <th>131818</th>\n",
       "      <td>USW00094728</td>\n",
       "      <td>18700102</td>\n",
       "      <td>TMAX</td>\n",
       "      <td>12.2</td>\n",
       "      <td>US</td>\n",
       "      <td>1870-01-02</td>\n",
       "      <td>1</td>\n",
       "      <td>1870</td>\n",
       "      <td>medium</td>\n",
       "      <td>6.564516</td>\n",
       "      <td>6.7</td>\n",
       "      <td>40.7789</td>\n",
       "      <td>-73.969200</td>\n",
       "      <td>39.599998</td>\n",
       "      <td>NY</td>\n",
       "      <td>NEW YORK CNTRL PK TWR</td>\n",
       "      <td>nan</td>\n",
       "      <td>HCN</td>\n",
       "      <td>72506.0</td>\n",
       "    </tr>\n",
       "    <tr>\n",
       "      <th>131819</th>\n",
       "      <td>USW00094728</td>\n",
       "      <td>18700101</td>\n",
       "      <td>TMAX</td>\n",
       "      <td>6.1</td>\n",
       "      <td>US</td>\n",
       "      <td>1870-01-01</td>\n",
       "      <td>1</td>\n",
       "      <td>1870</td>\n",
       "      <td>medium</td>\n",
       "      <td>6.564516</td>\n",
       "      <td>6.7</td>\n",
       "      <td>40.7789</td>\n",
       "      <td>-73.969200</td>\n",
       "      <td>39.599998</td>\n",
       "      <td>NY</td>\n",
       "      <td>NEW YORK CNTRL PK TWR</td>\n",
       "      <td>nan</td>\n",
       "      <td>HCN</td>\n",
       "      <td>72506.0</td>\n",
       "    </tr>\n",
       "  </tbody>\n",
       "</table>\n",
       "<p>131820 rows × 19 columns</p>\n",
       "</div>"
      ],
      "text/plain": [
       "            station  datetime obs_type  obs_value area datetime_dt  month  \\\n",
       "0       ASN00048013  18751117     TMAX       38.3   AS  1875-11-17     11   \n",
       "1       ASN00048013  18751116     TMAX       33.8   AS  1875-11-16     11   \n",
       "2       ASN00048013  18751115     TMAX       32.8   AS  1875-11-15     11   \n",
       "3       ASN00048013  18751114     TMAX       35.6   AS  1875-11-14     11   \n",
       "4       ASN00048013  18751113     TMAX       29.7   AS  1875-11-13     11   \n",
       "...             ...       ...      ...        ...  ...         ...    ...   \n",
       "131815  USW00094728  18700105     TMAX        1.1   US  1870-01-05      1   \n",
       "131816  USW00094728  18700104     TMAX        1.7   US  1870-01-04      1   \n",
       "131817  USW00094728  18700103     TMAX        5.0   US  1870-01-03      1   \n",
       "131818  USW00094728  18700102     TMAX       12.2   US  1870-01-02      1   \n",
       "131819  USW00094728  18700101     TMAX        6.1   US  1870-01-01      1   \n",
       "\n",
       "        year obs_value_cat_labeled  tmax_mean  tmax_median  LATITUDE  \\\n",
       "0       1875                   hot  32.241176         31.9  -30.0917   \n",
       "1       1875                   hot  32.241176         31.9  -30.0917   \n",
       "2       1875                   hot  32.241176         31.9  -30.0917   \n",
       "3       1875                   hot  32.241176         31.9  -30.0917   \n",
       "4       1875                   hot  32.241176         31.9  -30.0917   \n",
       "...      ...                   ...        ...          ...       ...   \n",
       "131815  1870                medium   6.564516          6.7   40.7789   \n",
       "131816  1870                medium   6.564516          6.7   40.7789   \n",
       "131817  1870                medium   6.564516          6.7   40.7789   \n",
       "131818  1870                medium   6.564516          6.7   40.7789   \n",
       "131819  1870                medium   6.564516          6.7   40.7789   \n",
       "\n",
       "         LONGITUDE   ELEVATION STATE                   NAME GSN FLAG  \\\n",
       "0       145.935806  106.000000   nan     BOURKE POST OFFICE      nan   \n",
       "1       145.935806  106.000000   nan     BOURKE POST OFFICE      nan   \n",
       "2       145.935806  106.000000   nan     BOURKE POST OFFICE      nan   \n",
       "3       145.935806  106.000000   nan     BOURKE POST OFFICE      nan   \n",
       "4       145.935806  106.000000   nan     BOURKE POST OFFICE      nan   \n",
       "...            ...         ...   ...                    ...      ...   \n",
       "131815  -73.969200   39.599998    NY  NEW YORK CNTRL PK TWR      nan   \n",
       "131816  -73.969200   39.599998    NY  NEW YORK CNTRL PK TWR      nan   \n",
       "131817  -73.969200   39.599998    NY  NEW YORK CNTRL PK TWR      nan   \n",
       "131818  -73.969200   39.599998    NY  NEW YORK CNTRL PK TWR      nan   \n",
       "131819  -73.969200   39.599998    NY  NEW YORK CNTRL PK TWR      nan   \n",
       "\n",
       "       HCN/CRN FLAG   WMO ID  \n",
       "0               nan      nan  \n",
       "1               nan      nan  \n",
       "2               nan      nan  \n",
       "3               nan      nan  \n",
       "4               nan      nan  \n",
       "...             ...      ...  \n",
       "131815          HCN  72506.0  \n",
       "131816          HCN  72506.0  \n",
       "131817          HCN  72506.0  \n",
       "131818          HCN  72506.0  \n",
       "131819          HCN  72506.0  \n",
       "\n",
       "[131820 rows x 19 columns]"
      ]
     },
     "execution_count": 23,
     "metadata": {},
     "output_type": "execute_result"
    }
   ],
   "source": [
    "col_to_dtype = dict(zip(column_names, column_dtypes))\n",
    "col_to_dtype\n",
    "\n",
    "import pandas as pd\n",
    "locations = pd.read_fwf(r'/Users/karolinejacobsen/Documents/GitHub/IDSD_group23/assignment1/data/ghcnd-stations.txt', headers=0, names=column_names, colspecs= colspec_pairs)\n",
    "\n",
    "locations = locations.astype(col_to_dtype)\n",
    "locations.rename(columns = {'ID':'station'}, inplace=True)\n",
    "\n",
    "\n",
    "df_weather_merged = pd.merge(df_weather_period, locations, on='station', how='left')\n",
    "df_weather_merged"
   ]
  },
  {
   "cell_type": "code",
   "execution_count": null,
   "metadata": {},
   "outputs": [],
   "source": []
  },
  {
   "cell_type": "markdown",
   "metadata": {
    "deletable": false,
    "editable": false,
    "nbgrader": {
     "cell_type": "markdown",
     "checksum": "b9a4a76770858c976a5b06ed3ae844c1",
     "grade": false,
     "grade_id": "cell-5ba4eb25c926ef77",
     "locked": true,
     "schema_version": 3,
     "solution": false,
     "task": false
    }
   },
   "source": [
    "> **Ex. 3.3.3.9:** Subset `df_weather_period` by all weather stations in Ontario (all stations in Ontario have `state == \"ON\"`) and store the resulting DataFrame in `df_ontario`. Compute the average `obs_value` for each `station`. Store the result in a dictionary named `avg_obs_value_ontario` with the keys being the station names and the values the average `obs_value`. Finally, subset the `locations` dataframe by the querying all stations contained in the keys of `avg_obs_value_ontario`. Store the result in `locations_ontario`. "
   ]
  },
  {
   "cell_type": "code",
   "execution_count": 35,
   "metadata": {
    "deletable": false,
    "nbgrader": {
     "cell_type": "code",
     "checksum": "281bdf9651d8963912d805659386a298",
     "grade": false,
     "grade_id": "3339",
     "locked": false,
     "schema_version": 3,
     "solution": true,
     "task": false
    }
   },
   "outputs": [
    {
     "ename": "KeyError",
     "evalue": "'STATE'",
     "output_type": "error",
     "traceback": [
      "\u001b[0;31m---------------------------------------------------------------------------\u001b[0m",
      "\u001b[0;31mKeyError\u001b[0m                                  Traceback (most recent call last)",
      "File \u001b[0;32m~/opt/anaconda3/lib/python3.9/site-packages/pandas/core/indexes/base.py:3621\u001b[0m, in \u001b[0;36mIndex.get_loc\u001b[0;34m(self, key, method, tolerance)\u001b[0m\n\u001b[1;32m   3620\u001b[0m \u001b[38;5;28;01mtry\u001b[39;00m:\n\u001b[0;32m-> 3621\u001b[0m     \u001b[38;5;28;01mreturn\u001b[39;00m \u001b[38;5;28;43mself\u001b[39;49m\u001b[38;5;241;43m.\u001b[39;49m\u001b[43m_engine\u001b[49m\u001b[38;5;241;43m.\u001b[39;49m\u001b[43mget_loc\u001b[49m\u001b[43m(\u001b[49m\u001b[43mcasted_key\u001b[49m\u001b[43m)\u001b[49m\n\u001b[1;32m   3622\u001b[0m \u001b[38;5;28;01mexcept\u001b[39;00m \u001b[38;5;167;01mKeyError\u001b[39;00m \u001b[38;5;28;01mas\u001b[39;00m err:\n",
      "File \u001b[0;32m~/opt/anaconda3/lib/python3.9/site-packages/pandas/_libs/index.pyx:136\u001b[0m, in \u001b[0;36mpandas._libs.index.IndexEngine.get_loc\u001b[0;34m()\u001b[0m\n",
      "File \u001b[0;32m~/opt/anaconda3/lib/python3.9/site-packages/pandas/_libs/index.pyx:163\u001b[0m, in \u001b[0;36mpandas._libs.index.IndexEngine.get_loc\u001b[0;34m()\u001b[0m\n",
      "File \u001b[0;32mpandas/_libs/hashtable_class_helper.pxi:5198\u001b[0m, in \u001b[0;36mpandas._libs.hashtable.PyObjectHashTable.get_item\u001b[0;34m()\u001b[0m\n",
      "File \u001b[0;32mpandas/_libs/hashtable_class_helper.pxi:5206\u001b[0m, in \u001b[0;36mpandas._libs.hashtable.PyObjectHashTable.get_item\u001b[0;34m()\u001b[0m\n",
      "\u001b[0;31mKeyError\u001b[0m: 'STATE'",
      "\nThe above exception was the direct cause of the following exception:\n",
      "\u001b[0;31mKeyError\u001b[0m                                  Traceback (most recent call last)",
      "Input \u001b[0;32mIn [35]\u001b[0m, in \u001b[0;36m<cell line: 2>\u001b[0;34m()\u001b[0m\n\u001b[1;32m      1\u001b[0m \u001b[38;5;66;03m# OUR CODE HERE\u001b[39;00m\n\u001b[0;32m----> 2\u001b[0m df_ontario \u001b[38;5;241m=\u001b[39m df_weather_period[\u001b[43mdf_weather_period\u001b[49m\u001b[43m[\u001b[49m\u001b[38;5;124;43m'\u001b[39;49m\u001b[38;5;124;43mSTATE\u001b[39;49m\u001b[38;5;124;43m'\u001b[39;49m\u001b[43m]\u001b[49m \u001b[38;5;241m==\u001b[39m \u001b[38;5;124m'\u001b[39m\u001b[38;5;124mON\u001b[39m\u001b[38;5;124m'\u001b[39m]\n\u001b[1;32m      3\u001b[0m df_ontario2 \u001b[38;5;241m=\u001b[39m \u001b[38;5;28mdict\u001b[39m(df_ontario\u001b[38;5;241m.\u001b[39mgroupby[\u001b[38;5;124m'\u001b[39m\u001b[38;5;124mobs_value\u001b[39m\u001b[38;5;124m'\u001b[39m]\u001b[38;5;241m.\u001b[39mtransform(\u001b[38;5;124m'\u001b[39m\u001b[38;5;124mmean\u001b[39m\u001b[38;5;124m'\u001b[39m))\n",
      "File \u001b[0;32m~/opt/anaconda3/lib/python3.9/site-packages/pandas/core/frame.py:3505\u001b[0m, in \u001b[0;36mDataFrame.__getitem__\u001b[0;34m(self, key)\u001b[0m\n\u001b[1;32m   3503\u001b[0m \u001b[38;5;28;01mif\u001b[39;00m \u001b[38;5;28mself\u001b[39m\u001b[38;5;241m.\u001b[39mcolumns\u001b[38;5;241m.\u001b[39mnlevels \u001b[38;5;241m>\u001b[39m \u001b[38;5;241m1\u001b[39m:\n\u001b[1;32m   3504\u001b[0m     \u001b[38;5;28;01mreturn\u001b[39;00m \u001b[38;5;28mself\u001b[39m\u001b[38;5;241m.\u001b[39m_getitem_multilevel(key)\n\u001b[0;32m-> 3505\u001b[0m indexer \u001b[38;5;241m=\u001b[39m \u001b[38;5;28;43mself\u001b[39;49m\u001b[38;5;241;43m.\u001b[39;49m\u001b[43mcolumns\u001b[49m\u001b[38;5;241;43m.\u001b[39;49m\u001b[43mget_loc\u001b[49m\u001b[43m(\u001b[49m\u001b[43mkey\u001b[49m\u001b[43m)\u001b[49m\n\u001b[1;32m   3506\u001b[0m \u001b[38;5;28;01mif\u001b[39;00m is_integer(indexer):\n\u001b[1;32m   3507\u001b[0m     indexer \u001b[38;5;241m=\u001b[39m [indexer]\n",
      "File \u001b[0;32m~/opt/anaconda3/lib/python3.9/site-packages/pandas/core/indexes/base.py:3623\u001b[0m, in \u001b[0;36mIndex.get_loc\u001b[0;34m(self, key, method, tolerance)\u001b[0m\n\u001b[1;32m   3621\u001b[0m     \u001b[38;5;28;01mreturn\u001b[39;00m \u001b[38;5;28mself\u001b[39m\u001b[38;5;241m.\u001b[39m_engine\u001b[38;5;241m.\u001b[39mget_loc(casted_key)\n\u001b[1;32m   3622\u001b[0m \u001b[38;5;28;01mexcept\u001b[39;00m \u001b[38;5;167;01mKeyError\u001b[39;00m \u001b[38;5;28;01mas\u001b[39;00m err:\n\u001b[0;32m-> 3623\u001b[0m     \u001b[38;5;28;01mraise\u001b[39;00m \u001b[38;5;167;01mKeyError\u001b[39;00m(key) \u001b[38;5;28;01mfrom\u001b[39;00m \u001b[38;5;21;01merr\u001b[39;00m\n\u001b[1;32m   3624\u001b[0m \u001b[38;5;28;01mexcept\u001b[39;00m \u001b[38;5;167;01mTypeError\u001b[39;00m:\n\u001b[1;32m   3625\u001b[0m     \u001b[38;5;66;03m# If we have a listlike key, _check_indexing_error will raise\u001b[39;00m\n\u001b[1;32m   3626\u001b[0m     \u001b[38;5;66;03m#  InvalidIndexError. Otherwise we fall through and re-raise\u001b[39;00m\n\u001b[1;32m   3627\u001b[0m     \u001b[38;5;66;03m#  the TypeError.\u001b[39;00m\n\u001b[1;32m   3628\u001b[0m     \u001b[38;5;28mself\u001b[39m\u001b[38;5;241m.\u001b[39m_check_indexing_error(key)\n",
      "\u001b[0;31mKeyError\u001b[0m: 'STATE'"
     ]
    }
   ],
   "source": [
    "# OUR CODE HERE\n",
    "df_ontario = df_weather_period[df_weather_period['STATE'] == 'ON']\n",
    "df_ontario2 = dict(df_ontario.groupby['obs_value'].transform('mean'))\n",
    "#['avg_obs_value_ontario']\n"
   ]
  },
  {
   "cell_type": "code",
   "execution_count": null,
   "metadata": {
    "deletable": false,
    "editable": false,
    "nbgrader": {
     "cell_type": "code",
     "checksum": "b0c4d941c8aa454f62466c826d87602a",
     "grade": true,
     "grade_id": "3339-test",
     "locked": true,
     "points": 2,
     "schema_version": 3,
     "solution": false,
     "task": false
    }
   },
   "outputs": [],
   "source": []
  },
  {
   "cell_type": "markdown",
   "metadata": {
    "deletable": false,
    "editable": false,
    "nbgrader": {
     "cell_type": "markdown",
     "checksum": "4c3a1d9147bc363623dcefcb7c27d5d5",
     "grade": false,
     "grade_id": "cell-8d4c53302d51c9db",
     "locked": true,
     "schema_version": 3,
     "solution": false,
     "task": false
    }
   },
   "source": [
    "> **Ex. 3.3.3.10 (OPTIONAL)**: The following exercise does not count towards the grade of this assignment. Let's try to plot the stations for Ontario on a map of Ontario. We'll use the [`folium`](http://python-visualization.github.io/folium/) package to do this. This package is not pre-installed with `anaconda`. Run the cell below to install the package or open up your terminal, activate your preferred conda environment and type `!pip install folium`. "
   ]
  },
  {
   "cell_type": "code",
   "execution_count": null,
   "metadata": {},
   "outputs": [],
   "source": [
    "!pip install folium"
   ]
  },
  {
   "cell_type": "markdown",
   "metadata": {
    "deletable": false,
    "editable": false,
    "nbgrader": {
     "cell_type": "markdown",
     "checksum": "8765bee40dfff161e74121cdcf5fcb42",
     "grade": false,
     "grade_id": "cell-444d95c01e37753f",
     "locked": true,
     "schema_version": 3,
     "solution": false,
     "task": false
    }
   },
   "source": [
    "> **Ex. 3.3.3.10 (continued)**:\n",
    "> We want to plot the stations in `locations_ontario` on top of a map of Ontario. To do this, we need to create a `folium.Marker` for each station and place this on the folium map named `m` in the cell below starting with `import folium`. To accomplish this do the following:\n",
    "- Iterate through the `zipper` defined in the cell below using a list comprehension and apply the `get_marker` function at each iteration. \n",
    "    - The `zipper` object yields a tuple of 4 values in each iteration. \n",
    "- The `avg_temp` argument of `get_marker` should take the value of each given station from the `avg_obs_value_ontario` dictionary created in the previous exercise. If the loop variable corresponding to `locations_ontario.station` is named `station_id` the value can be computed by subsetting the dictionary as  `avg_obs_value_ontario[station_id]`.\n",
    "- Store the result in a variable named `markers_ontario`. The result should be a list of `folium.Markers` for each of the stations.\n",
    "\n",
    "The resulting plot should be an interactive plot similar to the one in the cell below"
   ]
  },
  {
   "cell_type": "code",
   "execution_count": null,
   "metadata": {
    "deletable": false,
    "editable": false,
    "nbgrader": {
     "cell_type": "code",
     "checksum": "b4cd34d87209cc1d736bf17963ca1278",
     "grade": false,
     "grade_id": "cell-09786db74bccea07",
     "locked": true,
     "schema_version": 3,
     "solution": false,
     "task": false
    }
   },
   "outputs": [],
   "source": [
    "# Resulting folium plot\n",
    "from IPython.display import Image\n",
    "Image(filename='ontario-example-plot.png') "
   ]
  },
  {
   "cell_type": "code",
   "execution_count": null,
   "metadata": {
    "deletable": false,
    "nbgrader": {
     "cell_type": "code",
     "checksum": "4402f4bff9fb1f9e77ba879131dfdef4",
     "grade": true,
     "grade_id": "33310",
     "locked": false,
     "points": 0,
     "schema_version": 3,
     "solution": true,
     "task": false
    }
   },
   "outputs": [],
   "source": [
    "import folium\n",
    "\n",
    "\n",
    "def get_marker(lat, lon, station_name, avg_obs_value, icon='cloud', color=\"blue\"):\n",
    "    \"\"\"Creates a `folumn.Marker` for a given station\n",
    "    \n",
    "    Args:\n",
    "        (lat): lattitude of station\n",
    "        (lon): longitude of station\n",
    "        (station_name): name of station\n",
    "        (avg_obs_value): avg. obs_value for given station\n",
    "        \n",
    "    Returns:\n",
    "        (folium.Marker): object to be added to a folium map\n",
    "    \"\"\"\n",
    "    popup = \"\\n\".join([station_name, f\"Avg. obs_value: {avg_obs_value:.2f}\"])\n",
    "    marker = folium.Marker(\n",
    "        location=[lat, lon],\n",
    "        popup=popup,\n",
    "        icon=folium.Icon(icon=icon, color=color, )\n",
    "    )\n",
    "    return marker\n",
    "\n",
    "\n",
    "# Create folium map centered on Ontario\n",
    "# COORDS_ONTARIO = (51.730703, -86.938937)\n",
    "COORDS_ONTARIO = (43.40168574192175, -80.33021323830818)\n",
    "m = folium.Map(location=COORDS_ONTARIO, zoom_start=6)\n",
    "\n",
    "# Zipper object to iterate through\n",
    "zipper = zip(\n",
    "    locations_ontario.latitude,\n",
    "    locations_ontario.longitude,\n",
    "    locations_ontario.name,\n",
    "    locations_ontario.station   \n",
    ")\n",
    "\n",
    "# YOUR CODE HERE\n",
    "raise NotImplementedError()\n",
    "\n",
    "# add weather station markers to map \n",
    "for station_marker in markers_ontario:  \n",
    "    station_marker.add_to(m)\n",
    "m  # Display map"
   ]
  },
  {
   "cell_type": "markdown",
   "metadata": {
    "deletable": false,
    "editable": false,
    "nbgrader": {
     "cell_type": "markdown",
     "checksum": "eaf086f4f6724e090ef66a74eff4517e",
     "grade": false,
     "grade_id": "cell-422d30deb292b4c7",
     "locked": true,
     "schema_version": 3,
     "solution": false,
     "task": false
    }
   },
   "source": [
    "## Problems from Exercise Set 4:\n",
    "\n",
    "> **Ex. 4.3.5 (sligthly modified):** This exercise consists of a set of small subelements: \n",
    ">\n",
    "> 0. Show the first five rows of the titanic dataset. What information is in the dataset?\n",
    "> 1. Use a barplot to show the probability of survival for men and women within each passenger class. \n",
    "> 2. Can you make a boxplot showing the same information (why/why not?). \n",
    "> 3. Show a boxplot for the fare-prices within each passenger class. \n",
    "> 4. Create a new subfolder as done in Ex. 2.X.1 this time named `figs`. Use the same approach as in Ex. 2.X.1 and store the `Path` object in a variable named `fp_figs`. \n",
    "> 5. Combine the two of the figures you created above into a two-panel figure and save it on your computer in the `figs` subfolder."
   ]
  },
  {
   "cell_type": "code",
   "execution_count": 24,
   "metadata": {
    "deletable": false,
    "nbgrader": {
     "cell_type": "code",
     "checksum": "e46d24e4bd08f8870982dd932ddd15f1",
     "grade": true,
     "grade_id": "problem_435",
     "locked": false,
     "points": 2,
     "schema_version": 3,
     "solution": true,
     "task": false
    },
    "scrolled": true
   },
   "outputs": [
    {
     "name": "stdout",
     "output_type": "stream",
     "text": [
      "   survived  pclass     sex   age  sibsp  parch     fare embarked  class  \\\n",
      "0         0       3    male  22.0      1      0   7.2500        S  Third   \n",
      "1         1       1  female  38.0      1      0  71.2833        C  First   \n",
      "2         1       3  female  26.0      0      0   7.9250        S  Third   \n",
      "3         1       1  female  35.0      1      0  53.1000        S  First   \n",
      "4         0       3    male  35.0      0      0   8.0500        S  Third   \n",
      "\n",
      "     who  adult_male deck  embark_town alive  alone  \n",
      "0    man        True  NaN  Southampton    no  False  \n",
      "1  woman       False    C    Cherbourg   yes  False  \n",
      "2  woman       False  NaN  Southampton   yes   True  \n",
      "3  woman       False    C  Southampton   yes  False  \n",
      "4    man        True  NaN  Southampton    no   True  \n"
     ]
    }
   ],
   "source": [
    "# 0. Show the first five rows of the titanic dataset. What information is in the dataset?\n",
    "import matplotlib.pyplot as plt\n",
    "import numpy as np \n",
    "import pandas as pd\n",
    "import seaborn as sns\n",
    "titanic = sns.load_dataset('titanic')\n",
    "\n",
    "print(titanic.head(5))\n",
    "\n",
    "# The dataset contains information on each passenger onboard Titanic, both demografic and information about their \n",
    "# fareride, such as ticket price, class, whether or not the traveled alone ect., and lastly it contains information \n",
    "# regarding their fate when the boat sank."
   ]
  },
  {
   "cell_type": "code",
   "execution_count": 25,
   "metadata": {},
   "outputs": [
    {
     "data": {
      "text/plain": [
       "<AxesSubplot:xlabel='class', ylabel='survived'>"
      ]
     },
     "execution_count": 25,
     "metadata": {},
     "output_type": "execute_result"
    },
    {
     "data": {
      "image/png": "[encoded data removed]",
      "text/plain": [
       "<Figure size 720x288 with 1 Axes>"
      ]
     },
     "metadata": {
      "needs_background": "light"
     },
     "output_type": "display_data"
    }
   ],
   "source": [
    "# 1. Use a barplot to show the probability of survival for men and women within each passenger class.\n",
    "f,ax = plt.subplots(1, figsize=(10,4))\n",
    "sns.barplot(x='class', y='survived', data=titanic, hue= 'sex')\n"
   ]
  },
  {
   "cell_type": "code",
   "execution_count": 8,
   "metadata": {},
   "outputs": [],
   "source": [
    "#2. Can you make a boxplot showing the same information (why/why not?).\n",
    "# When using a boxplot one needs only one numerical variable, and regarding this information about the probability\n",
    "# of survivel for men and women within each passenger class, the number of variables exceeds the limites of the boxplot"
   ]
  },
  {
   "cell_type": "code",
   "execution_count": 26,
   "metadata": {},
   "outputs": [
    {
     "data": {
      "text/plain": [
       "<AxesSubplot:xlabel='class', ylabel='fare'>"
      ]
     },
     "execution_count": 26,
     "metadata": {},
     "output_type": "execute_result"
    },
    {
     "data": {
      "image/png": "[encoded data removed]",
      "text/plain": [
       "<Figure size 432x288 with 1 Axes>"
      ]
     },
     "metadata": {
      "needs_background": "light"
     },
     "output_type": "display_data"
    }
   ],
   "source": [
    "# 3. Show a boxplot for the fare-prices within each passenger class.\n",
    "\n",
    "sns.boxplot(x='class', y='fare', data=titanic)\n",
    "# The following shows a boxplot for the fare-prices within each passenger class, however the model is \n",
    "# highly influenced by one or more outliers. These could be removed for a clearer overview of plot."
   ]
  },
  {
   "cell_type": "code",
   "execution_count": 27,
   "metadata": {},
   "outputs": [],
   "source": [
    "# 4. Create a new subfolder as done in Ex. 2.X.1 this time named figs. \n",
    "#Use the same approach as in Ex. 2.X.1 and store the Path object in a variable named fp_figs.\n",
    "\n",
    "fp_figs = Path.cwd() / \"figs\"  \n",
    "\n",
    "Path.mkdir(fp_figs, exist_ok=True)"
   ]
  },
  {
   "cell_type": "code",
   "execution_count": 28,
   "metadata": {},
   "outputs": [
    {
     "data": {
      "image/png": "[encoded data removed]",
      "text/plain": [
       "<Figure size 720x288 with 2 Axes>"
      ]
     },
     "metadata": {
      "needs_background": "light"
     },
     "output_type": "display_data"
    }
   ],
   "source": [
    "# 5. Combine the two of the figures you created above into a two-panel figure and save it on your computer\n",
    "# in the figs subfolder.\n",
    "\n",
    "f,ax = plt.subplots(1,2, figsize=(10,4))\n",
    "\n",
    "sns.barplot(x='class', y='survived', data=titanic, hue= 'sex', ax=ax[0]) \n",
    "sns.boxplot(x='class', y='fare', data=titanic, ax=ax[1])\n",
    "\n",
    "\n",
    "plt.savefig('/Users/karolinejacobsen/Documents/GitHub/IDSD_group23/assignment1/figs/figur.png')"
   ]
  },
  {
   "cell_type": "markdown",
   "metadata": {},
   "source": [
    "> **Ex. 4.3.6:** Using the iris flower dataset, draw a scatterplot of sepal length and petal length. Include a second order polynomial fitted to the data. Add a title to the plot and rename the axis labels.\n",
    ">\n",
    "> _Write 3 sentences:_ Is this a meaningful way to display the data? What could we do differently?\n",
    ">\n",
    "> For a better understanding of the dataset this image might be useful:\n",
    "\n",
    "> <img src=\"example-iris-q436.png\" alt=\"Drawing\" style=\"width: 200px;\"/>\n",
    ">\n",
    "> _Hint:_ Use the `.regplot` method from seaborn. "
   ]
  },
  {
   "cell_type": "code",
   "execution_count": 29,
   "metadata": {
    "deletable": false,
    "nbgrader": {
     "cell_type": "code",
     "checksum": "7e41badd527517260b61cead987a91cf",
     "grade": true,
     "grade_id": "problem_436",
     "locked": false,
     "points": 2,
     "schema_version": 3,
     "solution": true,
     "task": false
    }
   },
   "outputs": [
    {
     "data": {
      "text/plain": [
       "'This is a fine way of displaying '"
      ]
     },
     "execution_count": 29,
     "metadata": {},
     "output_type": "execute_result"
    },
    {
     "data": {
      "image/png": "[encoded data removed]",
      "text/plain": [
       "<Figure size 1080x432 with 1 Axes>"
      ]
     },
     "metadata": {
      "needs_background": "light"
     },
     "output_type": "display_data"
    }
   ],
   "source": [
    "# YOUR CODE HERE\n",
    "iris = sns.load_dataset('iris')\n",
    "\n",
    "\n",
    "f,ax = plt.subplots(1, figsize=(15,6))\n",
    "\n",
    "g=sns.regplot(x = 'sepal_length', y = 'petal_length', data=iris, order=2)\n",
    "ax.set_ylabel('Petal length')\n",
    "\n",
    "ax.set_xlabel('Sepal length')\n",
    "\n",
    "ax.title.set_fontsize(15)\n",
    "\n",
    "f.suptitle(\"Correlation in growth of flower leafs\", fontsize=20)\n",
    "\n",
    "\"\"\"This is a fine way of displaying \"\"\"\n"
   ]
  },
  {
   "cell_type": "markdown",
   "metadata": {
    "deletable": false,
    "editable": false,
    "nbgrader": {
     "cell_type": "markdown",
     "checksum": "4330f62f04b07d60e818eb1893bbf82d",
     "grade": false,
     "grade_id": "cell-e6d0c56f1cf535c5",
     "locked": true,
     "schema_version": 3,
     "solution": false,
     "task": false
    }
   },
   "source": [
    "> **Ex. 4.3.7:** Use [pairplot with hue](https://seaborn.pydata.org/generated/seaborn.pairplot.html) to create a figure that clearly shows how the different species vary across measurements in the iris dataset. Change the color palette and remove the shading from the density plots. _Bonus:_ Try to explain how the `diag_kws` argument works (_hint:_ [read here](https://stackoverflow.com/questions/1769403/understanding-kwargs-in-python))"
   ]
  },
  {
   "cell_type": "code",
   "execution_count": 30,
   "metadata": {
    "deletable": false,
    "nbgrader": {
     "cell_type": "code",
     "checksum": "19e3feab810ee078ec29408d99334983",
     "grade": true,
     "grade_id": "problem_437",
     "locked": false,
     "points": 1,
     "schema_version": 3,
     "solution": true,
     "task": false
    }
   },
   "outputs": [
    {
     "name": "stdout",
     "output_type": "stream",
     "text": [
      "   sepal_length  sepal_width  petal_length  petal_width species\n",
      "0           5.1          3.5           1.4          0.2  setosa\n",
      "1           4.9          3.0           1.4          0.2  setosa\n",
      "2           4.7          3.2           1.3          0.2  setosa\n",
      "3           4.6          3.1           1.5          0.2  setosa\n",
      "4           5.0          3.6           1.4          0.2  setosa\n",
      "['setosa' 'versicolor' 'virginica']\n"
     ]
    },
    {
     "data": {
      "text/plain": [
       "<seaborn.axisgrid.PairGrid at 0x7fe277dbb4f0>"
      ]
     },
     "execution_count": 30,
     "metadata": {},
     "output_type": "execute_result"
    },
    {
     "data": {
      "image/png": "[encoded data removed]",
      "text/plain": [
       "<Figure size 804.75x720 with 20 Axes>"
      ]
     },
     "metadata": {
      "needs_background": "light"
     },
     "output_type": "display_data"
    }
   ],
   "source": [
    "# YOUR CODE HERE\n",
    "\n",
    "print(iris.head(5))\n",
    "\n",
    "print(iris['species'].unique())\n",
    "\n",
    "#sns.set_style('darkgrid')\n",
    "\n",
    "sns.pairplot(iris, hue= 'species', palette = 'twilight', diag_kws = {'alpha':0})\n",
    "\n"
   ]
  },
  {
   "cell_type": "code",
   "execution_count": null,
   "metadata": {},
   "outputs": [],
   "source": []
  }
 ],
 "metadata": {
  "kernelspec": {
   "display_name": "Python 3 (ipykernel)",
   "language": "python",
   "name": "python3"
  },
  "language_info": {
   "codemirror_mode": {
    "name": "ipython",
    "version": 3
   },
   "file_extension": ".py",
   "mimetype": "text/x-python",
   "name": "python",
   "nbconvert_exporter": "python",
   "pygments_lexer": "ipython3",
   "version": "3.9.12"
  },
  "varInspector": {
   "cols": {
    "lenName": 16,
    "lenType": 16,
    "lenVar": 40
   },
   "kernels_config": {
    "python": {
     "delete_cmd_postfix": "",
     "delete_cmd_prefix": "del ",
     "library": "var_list.py",
     "varRefreshCmd": "print(var_dic_list())"
    },
    "r": {
     "delete_cmd_postfix": ") ",
     "delete_cmd_prefix": "rm(",
     "library": "var_list.r",
     "varRefreshCmd": "cat(var_dic_list()) "
    }
   },
   "types_to_exclude": [
    "module",
    "function",
    "builtin_function_or_method",
    "instance",
    "_Feature"
   ],
   "window_display": false
  }
 },
 "nbformat": 4,
 "nbformat_minor": 4
}
